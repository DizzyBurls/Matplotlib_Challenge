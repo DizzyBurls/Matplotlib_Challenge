{
 "cells": [
  {
   "cell_type": "markdown",
   "metadata": {},
   "source": [
    "## Observations and Insights \n",
    "\n",
    "Observation 1:\n",
    "\n",
    "The r-squared value of 0.903 (r= 0.95) that was calculated for the scatter plot between Weight Class and Average Tumor Volume suggests that there is a strong correlation between the two variables. Larger mice will tend to have larger tumors. This was, unsurprisingly supported by the r-squared value of 0.709 (r=0.84) for the scatter plot comparing Individual Mouse Weight and its Average Tumor Volume throughout testing. (Please read below if it is unclear why I have referred to two separate scatter plots.)\n",
    "\n",
    "Observation 2:\n",
    "\n",
    "Capomulin and Ramicane were the treatments which resulted in the lowest final tumor volume sizes. Of the two, Ramicane had the lower maximum, median, lower quartile and minimum. I would classify it as the most promising treatment based on this small study. I would be keen to see an analysis that looked and the CHANGE in tumor size for mice taking each drug. That to me would be just as telling a graph. I would also like to see a study with many more mice of varying weights.\n",
    "\n",
    "Observation 3:\n",
    "\n",
    "Mouse s185 saw a near linear reduction in tumor size whilst on Capomulin.\n",
    "At Timepoint 0, the mouse had a tumor size of 45 mm cubed in volume.\n",
    "By the conclusion of the testing that tumor was now only 23.34 mm cubed in volume.\n",
    "That represents a 48.4% in volume.\n",
    "\n",
    "\n",
    "## IMPORTANT: Please read.\n",
    "\n",
    "The instructions relating to Scatter Plots and Regression Lines were, n my opinion, ambiguous.\n",
    "\n",
    "They state:\n",
    "\n",
    "\"Generate a scatter plot of average tumor volume vs. mouse weight for the Capomulin regimen.\"\n",
    "\n",
    "Does this mean filter by Drug Regiment (= Capomulin) and then:\n",
    "\n",
    "(a) Group by weight and then average the tumor volumes in each WEIGHT GROUP?\n",
    "\n",
    "(b) Average EACH mouse's tumor volumes and plot it against its weight?\n",
    "\n",
    "I did both and really hope not to be penalised for it.\n",
    "\n",
    "As a side note, I don't see much value either approach. I am more interested in a scatter plotter comparing the weight of a mouse and either:\n",
    "\n",
    "(a) Its tumor size at Timepoint 0.\n",
    "\n",
    "(b) Its CHANGE in tumor size over the trial.\n"
   ]
  },
  {
   "cell_type": "markdown",
   "metadata": {},
   "source": []
  },
  {
   "cell_type": "code",
   "execution_count": 1,
   "metadata": {},
   "outputs": [],
   "source": [
    "# Dependencies and Setup:\n",
    "\n",
    "import matplotlib.pyplot as plt\n",
    "import pandas as pd\n",
    "import scipy.stats as st\n",
    "\n",
    "# Study data files:\n",
    "\n",
    "mouse_metadata_path = \"data/Mouse_metadata.csv\"\n",
    "study_results_path = \"data/Study_results.csv\"\n",
    "\n",
    "# Read the mouse data and the study results files.\n",
    "\n",
    "mouse_metadata = pd.read_csv(mouse_metadata_path)\n",
    "study_results = pd.read_csv(study_results_path)\n"
   ]
  },
  {
   "cell_type": "code",
   "execution_count": 2,
   "metadata": {},
   "outputs": [
    {
     "data": {
      "text/html": [
       "<div>\n",
       "<style scoped>\n",
       "    .dataframe tbody tr th:only-of-type {\n",
       "        vertical-align: middle;\n",
       "    }\n",
       "\n",
       "    .dataframe tbody tr th {\n",
       "        vertical-align: top;\n",
       "    }\n",
       "\n",
       "    .dataframe thead th {\n",
       "        text-align: right;\n",
       "    }\n",
       "</style>\n",
       "<table border=\"1\" class=\"dataframe\">\n",
       "  <thead>\n",
       "    <tr style=\"text-align: right;\">\n",
       "      <th></th>\n",
       "      <th>Mouse ID</th>\n",
       "      <th>Drug Regimen</th>\n",
       "      <th>Sex</th>\n",
       "      <th>Age_months</th>\n",
       "      <th>Weight (g)</th>\n",
       "    </tr>\n",
       "  </thead>\n",
       "  <tbody>\n",
       "    <tr>\n",
       "      <th>0</th>\n",
       "      <td>k403</td>\n",
       "      <td>Ramicane</td>\n",
       "      <td>Male</td>\n",
       "      <td>21</td>\n",
       "      <td>16</td>\n",
       "    </tr>\n",
       "    <tr>\n",
       "      <th>1</th>\n",
       "      <td>s185</td>\n",
       "      <td>Capomulin</td>\n",
       "      <td>Female</td>\n",
       "      <td>3</td>\n",
       "      <td>17</td>\n",
       "    </tr>\n",
       "    <tr>\n",
       "      <th>2</th>\n",
       "      <td>x401</td>\n",
       "      <td>Capomulin</td>\n",
       "      <td>Female</td>\n",
       "      <td>16</td>\n",
       "      <td>15</td>\n",
       "    </tr>\n",
       "    <tr>\n",
       "      <th>3</th>\n",
       "      <td>m601</td>\n",
       "      <td>Capomulin</td>\n",
       "      <td>Male</td>\n",
       "      <td>22</td>\n",
       "      <td>17</td>\n",
       "    </tr>\n",
       "    <tr>\n",
       "      <th>4</th>\n",
       "      <td>g791</td>\n",
       "      <td>Ramicane</td>\n",
       "      <td>Male</td>\n",
       "      <td>11</td>\n",
       "      <td>16</td>\n",
       "    </tr>\n",
       "  </tbody>\n",
       "</table>\n",
       "</div>"
      ],
      "text/plain": [
       "  Mouse ID Drug Regimen     Sex  Age_months  Weight (g)\n",
       "0     k403     Ramicane    Male          21          16\n",
       "1     s185    Capomulin  Female           3          17\n",
       "2     x401    Capomulin  Female          16          15\n",
       "3     m601    Capomulin    Male          22          17\n",
       "4     g791     Ramicane    Male          11          16"
      ]
     },
     "execution_count": 2,
     "metadata": {},
     "output_type": "execute_result"
    }
   ],
   "source": [
    "# Print a snippet of the mouse data to become familiar with its layout and contents.\n",
    "\n",
    "mouse_metadata.head()\n"
   ]
  },
  {
   "cell_type": "code",
   "execution_count": 3,
   "metadata": {},
   "outputs": [
    {
     "data": {
      "text/html": [
       "<div>\n",
       "<style scoped>\n",
       "    .dataframe tbody tr th:only-of-type {\n",
       "        vertical-align: middle;\n",
       "    }\n",
       "\n",
       "    .dataframe tbody tr th {\n",
       "        vertical-align: top;\n",
       "    }\n",
       "\n",
       "    .dataframe thead th {\n",
       "        text-align: right;\n",
       "    }\n",
       "</style>\n",
       "<table border=\"1\" class=\"dataframe\">\n",
       "  <thead>\n",
       "    <tr style=\"text-align: right;\">\n",
       "      <th></th>\n",
       "      <th>Mouse ID</th>\n",
       "      <th>Timepoint</th>\n",
       "      <th>Tumor Volume (mm3)</th>\n",
       "      <th>Metastatic Sites</th>\n",
       "    </tr>\n",
       "  </thead>\n",
       "  <tbody>\n",
       "    <tr>\n",
       "      <th>0</th>\n",
       "      <td>b128</td>\n",
       "      <td>0</td>\n",
       "      <td>45.0</td>\n",
       "      <td>0</td>\n",
       "    </tr>\n",
       "    <tr>\n",
       "      <th>1</th>\n",
       "      <td>f932</td>\n",
       "      <td>0</td>\n",
       "      <td>45.0</td>\n",
       "      <td>0</td>\n",
       "    </tr>\n",
       "    <tr>\n",
       "      <th>2</th>\n",
       "      <td>g107</td>\n",
       "      <td>0</td>\n",
       "      <td>45.0</td>\n",
       "      <td>0</td>\n",
       "    </tr>\n",
       "    <tr>\n",
       "      <th>3</th>\n",
       "      <td>a457</td>\n",
       "      <td>0</td>\n",
       "      <td>45.0</td>\n",
       "      <td>0</td>\n",
       "    </tr>\n",
       "    <tr>\n",
       "      <th>4</th>\n",
       "      <td>c819</td>\n",
       "      <td>0</td>\n",
       "      <td>45.0</td>\n",
       "      <td>0</td>\n",
       "    </tr>\n",
       "  </tbody>\n",
       "</table>\n",
       "</div>"
      ],
      "text/plain": [
       "  Mouse ID  Timepoint  Tumor Volume (mm3)  Metastatic Sites\n",
       "0     b128          0                45.0                 0\n",
       "1     f932          0                45.0                 0\n",
       "2     g107          0                45.0                 0\n",
       "3     a457          0                45.0                 0\n",
       "4     c819          0                45.0                 0"
      ]
     },
     "execution_count": 3,
     "metadata": {},
     "output_type": "execute_result"
    }
   ],
   "source": [
    "# Print a snippet of the study results data to become familiar with its layout and contents.\n",
    "\n",
    "study_results.head()\n"
   ]
  },
  {
   "cell_type": "code",
   "execution_count": 4,
   "metadata": {},
   "outputs": [
    {
     "data": {
      "text/html": [
       "<div>\n",
       "<style scoped>\n",
       "    .dataframe tbody tr th:only-of-type {\n",
       "        vertical-align: middle;\n",
       "    }\n",
       "\n",
       "    .dataframe tbody tr th {\n",
       "        vertical-align: top;\n",
       "    }\n",
       "\n",
       "    .dataframe thead th {\n",
       "        text-align: right;\n",
       "    }\n",
       "</style>\n",
       "<table border=\"1\" class=\"dataframe\">\n",
       "  <thead>\n",
       "    <tr style=\"text-align: right;\">\n",
       "      <th></th>\n",
       "      <th>Mouse ID</th>\n",
       "      <th>Drug Regimen</th>\n",
       "      <th>Sex</th>\n",
       "      <th>Age_months</th>\n",
       "      <th>Weight (g)</th>\n",
       "      <th>Timepoint</th>\n",
       "      <th>Tumor Volume (mm3)</th>\n",
       "      <th>Metastatic Sites</th>\n",
       "    </tr>\n",
       "  </thead>\n",
       "  <tbody>\n",
       "    <tr>\n",
       "      <th>0</th>\n",
       "      <td>k403</td>\n",
       "      <td>Ramicane</td>\n",
       "      <td>Male</td>\n",
       "      <td>21</td>\n",
       "      <td>16</td>\n",
       "      <td>0</td>\n",
       "      <td>45.000000</td>\n",
       "      <td>0</td>\n",
       "    </tr>\n",
       "    <tr>\n",
       "      <th>1</th>\n",
       "      <td>k403</td>\n",
       "      <td>Ramicane</td>\n",
       "      <td>Male</td>\n",
       "      <td>21</td>\n",
       "      <td>16</td>\n",
       "      <td>5</td>\n",
       "      <td>38.825898</td>\n",
       "      <td>0</td>\n",
       "    </tr>\n",
       "    <tr>\n",
       "      <th>2</th>\n",
       "      <td>k403</td>\n",
       "      <td>Ramicane</td>\n",
       "      <td>Male</td>\n",
       "      <td>21</td>\n",
       "      <td>16</td>\n",
       "      <td>10</td>\n",
       "      <td>35.014271</td>\n",
       "      <td>1</td>\n",
       "    </tr>\n",
       "  </tbody>\n",
       "</table>\n",
       "</div>"
      ],
      "text/plain": [
       "  Mouse ID Drug Regimen   Sex  Age_months  Weight (g)  Timepoint  \\\n",
       "0     k403     Ramicane  Male          21          16          0   \n",
       "1     k403     Ramicane  Male          21          16          5   \n",
       "2     k403     Ramicane  Male          21          16         10   \n",
       "\n",
       "   Tumor Volume (mm3)  Metastatic Sites  \n",
       "0           45.000000                 0  \n",
       "1           38.825898                 0  \n",
       "2           35.014271                 1  "
      ]
     },
     "execution_count": 4,
     "metadata": {},
     "output_type": "execute_result"
    }
   ],
   "source": [
    "# Combine the data into a single dataset.\n",
    "\n",
    "study_data_merged_df = pd.merge(mouse_metadata, study_results, how=\"left\", on=[\"Mouse ID\", \"Mouse ID\"])\n",
    "\n",
    "# Display the data table for preview.\n",
    "\n",
    "study_data_merged_df.head(3)\n"
   ]
  },
  {
   "cell_type": "code",
   "execution_count": 5,
   "metadata": {},
   "outputs": [
    {
     "data": {
      "text/plain": [
       "(1893, 8)"
      ]
     },
     "execution_count": 5,
     "metadata": {},
     "output_type": "execute_result"
    }
   ],
   "source": [
    "# Determine the total number of columns and rows.\n",
    "\n",
    "study_data_merged_df.shape\n"
   ]
  },
  {
   "cell_type": "code",
   "execution_count": 6,
   "metadata": {},
   "outputs": [
    {
     "data": {
      "text/html": [
       "<div>\n",
       "<style scoped>\n",
       "    .dataframe tbody tr th:only-of-type {\n",
       "        vertical-align: middle;\n",
       "    }\n",
       "\n",
       "    .dataframe tbody tr th {\n",
       "        vertical-align: top;\n",
       "    }\n",
       "\n",
       "    .dataframe thead th {\n",
       "        text-align: right;\n",
       "    }\n",
       "</style>\n",
       "<table border=\"1\" class=\"dataframe\">\n",
       "  <thead>\n",
       "    <tr style=\"text-align: right;\">\n",
       "      <th></th>\n",
       "      <th>Mouse_ID</th>\n",
       "      <th>Drug_Regimen</th>\n",
       "      <th>Sex</th>\n",
       "      <th>Age_Months</th>\n",
       "      <th>Weight_Grams</th>\n",
       "      <th>Timepoint</th>\n",
       "      <th>Tumor_Vol_mm3</th>\n",
       "      <th>Metastatic_Sites</th>\n",
       "    </tr>\n",
       "  </thead>\n",
       "  <tbody>\n",
       "    <tr>\n",
       "      <th>0</th>\n",
       "      <td>k403</td>\n",
       "      <td>Ramicane</td>\n",
       "      <td>Male</td>\n",
       "      <td>21</td>\n",
       "      <td>16</td>\n",
       "      <td>0</td>\n",
       "      <td>45.000000</td>\n",
       "      <td>0</td>\n",
       "    </tr>\n",
       "    <tr>\n",
       "      <th>1</th>\n",
       "      <td>k403</td>\n",
       "      <td>Ramicane</td>\n",
       "      <td>Male</td>\n",
       "      <td>21</td>\n",
       "      <td>16</td>\n",
       "      <td>5</td>\n",
       "      <td>38.825898</td>\n",
       "      <td>0</td>\n",
       "    </tr>\n",
       "    <tr>\n",
       "      <th>2</th>\n",
       "      <td>k403</td>\n",
       "      <td>Ramicane</td>\n",
       "      <td>Male</td>\n",
       "      <td>21</td>\n",
       "      <td>16</td>\n",
       "      <td>10</td>\n",
       "      <td>35.014271</td>\n",
       "      <td>1</td>\n",
       "    </tr>\n",
       "  </tbody>\n",
       "</table>\n",
       "</div>"
      ],
      "text/plain": [
       "  Mouse_ID Drug_Regimen   Sex  Age_Months  Weight_Grams  Timepoint  \\\n",
       "0     k403     Ramicane  Male          21            16          0   \n",
       "1     k403     Ramicane  Male          21            16          5   \n",
       "2     k403     Ramicane  Male          21            16         10   \n",
       "\n",
       "   Tumor_Vol_mm3  Metastatic_Sites  \n",
       "0      45.000000                 0  \n",
       "1      38.825898                 0  \n",
       "2      35.014271                 1  "
      ]
     },
     "execution_count": 6,
     "metadata": {},
     "output_type": "execute_result"
    }
   ],
   "source": [
    "# Rename column headers with a consistent style to avoid conflicts in future code.\n",
    "\n",
    "study_data_merged_df=study_data_merged_df.rename(columns={\"Mouse ID\": \"Mouse_ID\", \"Drug Regimen\": \"Drug_Regimen\", \"Age_months\": \"Age_Months\", \"Weight (g)\": \"Weight_Grams\", \"Tumor Volume (mm3)\": \"Tumor_Vol_mm3\", \"Metastatic Sites\": \"Metastatic_Sites\"})\n",
    "study_data_merged_df.head(3)\n"
   ]
  },
  {
   "cell_type": "code",
   "execution_count": 7,
   "metadata": {},
   "outputs": [
    {
     "name": "stdout",
     "output_type": "stream",
     "text": [
      "There are 249 mice in the study.\n"
     ]
    }
   ],
   "source": [
    "# Check the number of different mice in the study.\n",
    "\n",
    "number_mice=study_data_merged_df.Mouse_ID.nunique()\n",
    "print(f\"There are {number_mice} mice in the study.\")\n"
   ]
  },
  {
   "cell_type": "code",
   "execution_count": 8,
   "metadata": {},
   "outputs": [
    {
     "data": {
      "text/plain": [
       "False    1888\n",
       "True        5\n",
       "dtype: int64"
      ]
     },
     "execution_count": 8,
     "metadata": {},
     "output_type": "execute_result"
    }
   ],
   "source": [
    "# Search for duplicate 'Mouse Id & Timepoint' combinations in the data.\n",
    "\n",
    "duplicate_checklist =study_data_merged_df.duplicated([\"Mouse_ID\", \"Timepoint\"])\n",
    "\n",
    "\n",
    "# Count the number of unique and duplicate combinations there are for 'Mouse ID & Timepoint' in the data.\n",
    "\n",
    "count_duplicate_checklist=duplicate_checklist.value_counts()\n",
    "count_duplicate_checklist\n"
   ]
  },
  {
   "cell_type": "code",
   "execution_count": 9,
   "metadata": {},
   "outputs": [
    {
     "name": "stdout",
     "output_type": "stream",
     "text": [
      "There are 5 duplicate combinations of 'Mouse ID & Timepoint' in the data set.\n"
     ]
    }
   ],
   "source": [
    "# Print the number of duplicate combinations of 'Mouse ID & Timepoint'.\n",
    "\n",
    "Number_duplicates=count_duplicate_checklist.iloc[1]\n",
    "Number_duplicates\n",
    "\n",
    "print(f\"There are {Number_duplicates} duplicate combinations of 'Mouse ID & Timepoint' in the data set.\")\n"
   ]
  },
  {
   "cell_type": "code",
   "execution_count": 10,
   "metadata": {},
   "outputs": [
    {
     "data": {
      "text/html": [
       "<div>\n",
       "<style scoped>\n",
       "    .dataframe tbody tr th:only-of-type {\n",
       "        vertical-align: middle;\n",
       "    }\n",
       "\n",
       "    .dataframe tbody tr th {\n",
       "        vertical-align: top;\n",
       "    }\n",
       "\n",
       "    .dataframe thead th {\n",
       "        text-align: right;\n",
       "    }\n",
       "</style>\n",
       "<table border=\"1\" class=\"dataframe\">\n",
       "  <thead>\n",
       "    <tr style=\"text-align: right;\">\n",
       "      <th></th>\n",
       "      <th>Mouse_ID</th>\n",
       "      <th>Drug_Regimen</th>\n",
       "      <th>Sex</th>\n",
       "      <th>Age_Months</th>\n",
       "      <th>Weight_Grams</th>\n",
       "      <th>Timepoint</th>\n",
       "      <th>Tumor_Vol_mm3</th>\n",
       "      <th>Metastatic_Sites</th>\n",
       "    </tr>\n",
       "  </thead>\n",
       "  <tbody>\n",
       "    <tr>\n",
       "      <th>909</th>\n",
       "      <td>g989</td>\n",
       "      <td>Propriva</td>\n",
       "      <td>Female</td>\n",
       "      <td>21</td>\n",
       "      <td>26</td>\n",
       "      <td>0</td>\n",
       "      <td>45.000000</td>\n",
       "      <td>0</td>\n",
       "    </tr>\n",
       "    <tr>\n",
       "      <th>911</th>\n",
       "      <td>g989</td>\n",
       "      <td>Propriva</td>\n",
       "      <td>Female</td>\n",
       "      <td>21</td>\n",
       "      <td>26</td>\n",
       "      <td>5</td>\n",
       "      <td>47.570392</td>\n",
       "      <td>0</td>\n",
       "    </tr>\n",
       "    <tr>\n",
       "      <th>913</th>\n",
       "      <td>g989</td>\n",
       "      <td>Propriva</td>\n",
       "      <td>Female</td>\n",
       "      <td>21</td>\n",
       "      <td>26</td>\n",
       "      <td>10</td>\n",
       "      <td>49.880528</td>\n",
       "      <td>0</td>\n",
       "    </tr>\n",
       "    <tr>\n",
       "      <th>915</th>\n",
       "      <td>g989</td>\n",
       "      <td>Propriva</td>\n",
       "      <td>Female</td>\n",
       "      <td>21</td>\n",
       "      <td>26</td>\n",
       "      <td>15</td>\n",
       "      <td>53.442020</td>\n",
       "      <td>0</td>\n",
       "    </tr>\n",
       "    <tr>\n",
       "      <th>917</th>\n",
       "      <td>g989</td>\n",
       "      <td>Propriva</td>\n",
       "      <td>Female</td>\n",
       "      <td>21</td>\n",
       "      <td>26</td>\n",
       "      <td>20</td>\n",
       "      <td>54.657650</td>\n",
       "      <td>1</td>\n",
       "    </tr>\n",
       "  </tbody>\n",
       "</table>\n",
       "</div>"
      ],
      "text/plain": [
       "    Mouse_ID Drug_Regimen     Sex  Age_Months  Weight_Grams  Timepoint  \\\n",
       "909     g989     Propriva  Female          21            26          0   \n",
       "911     g989     Propriva  Female          21            26          5   \n",
       "913     g989     Propriva  Female          21            26         10   \n",
       "915     g989     Propriva  Female          21            26         15   \n",
       "917     g989     Propriva  Female          21            26         20   \n",
       "\n",
       "     Tumor_Vol_mm3  Metastatic_Sites  \n",
       "909      45.000000                 0  \n",
       "911      47.570392                 0  \n",
       "913      49.880528                 0  \n",
       "915      53.442020                 0  \n",
       "917      54.657650                 1  "
      ]
     },
     "execution_count": 10,
     "metadata": {},
     "output_type": "execute_result"
    }
   ],
   "source": [
    "# Optional: Get all the duplicate rows based on 'Mouse ID & Timepoint' combination.\n",
    "\n",
    "duplicate_rows_df=study_data_merged_df.loc[duplicate_checklist]\n",
    "duplicate_rows_df\n",
    "\n",
    "# These rows will soon be removed from the master data set, as will all other rows relating to Mouse IDs that appear on this list.\n"
   ]
  },
  {
   "cell_type": "code",
   "execution_count": 11,
   "metadata": {},
   "outputs": [
    {
     "name": "stdout",
     "output_type": "stream",
     "text": [
      "Number of Duplicate Mouse IDs: 1\n"
     ]
    }
   ],
   "source": [
    "#Determine the number of duplicate mice.\n",
    "\n",
    "number_mice=study_data_merged_df.Mouse_ID.nunique()\n",
    "number_duplicate_mice=duplicate_rows_df.Mouse_ID.nunique()\n",
    "print(f\"Number of Duplicate Mouse IDs: {number_duplicate_mice}\")\n"
   ]
  },
  {
   "cell_type": "code",
   "execution_count": 12,
   "metadata": {},
   "outputs": [
    {
     "data": {
      "text/plain": [
       "array(['g989'], dtype=object)"
      ]
     },
     "execution_count": 12,
     "metadata": {},
     "output_type": "execute_result"
    }
   ],
   "source": [
    "# List the Mouse IDs that have duplicate 'Mouse ID & Timepoint' combinations in the data.\n",
    "\n",
    "duplicate_IDs=duplicate_rows_df.Mouse_ID.unique()\n",
    "duplicate_IDs_df=pd.DataFrame([{\"duplicate_IDs\": duplicate_IDs}])\n",
    "duplicate_IDs\n"
   ]
  },
  {
   "cell_type": "code",
   "execution_count": 13,
   "metadata": {},
   "outputs": [
    {
     "data": {
      "text/html": [
       "<div>\n",
       "<style scoped>\n",
       "    .dataframe tbody tr th:only-of-type {\n",
       "        vertical-align: middle;\n",
       "    }\n",
       "\n",
       "    .dataframe tbody tr th {\n",
       "        vertical-align: top;\n",
       "    }\n",
       "\n",
       "    .dataframe thead th {\n",
       "        text-align: right;\n",
       "    }\n",
       "</style>\n",
       "<table border=\"1\" class=\"dataframe\">\n",
       "  <thead>\n",
       "    <tr style=\"text-align: right;\">\n",
       "      <th></th>\n",
       "      <th>Mouse_ID</th>\n",
       "      <th>Drug_Regimen</th>\n",
       "      <th>Sex</th>\n",
       "      <th>Age_Months</th>\n",
       "      <th>Weight_Grams</th>\n",
       "      <th>Timepoint</th>\n",
       "      <th>Tumor_Vol_mm3</th>\n",
       "      <th>Metastatic_Sites</th>\n",
       "    </tr>\n",
       "  </thead>\n",
       "  <tbody>\n",
       "    <tr>\n",
       "      <th>908</th>\n",
       "      <td>g989</td>\n",
       "      <td>Propriva</td>\n",
       "      <td>Female</td>\n",
       "      <td>21</td>\n",
       "      <td>26</td>\n",
       "      <td>0</td>\n",
       "      <td>45.000000</td>\n",
       "      <td>0</td>\n",
       "    </tr>\n",
       "    <tr>\n",
       "      <th>909</th>\n",
       "      <td>g989</td>\n",
       "      <td>Propriva</td>\n",
       "      <td>Female</td>\n",
       "      <td>21</td>\n",
       "      <td>26</td>\n",
       "      <td>0</td>\n",
       "      <td>45.000000</td>\n",
       "      <td>0</td>\n",
       "    </tr>\n",
       "    <tr>\n",
       "      <th>910</th>\n",
       "      <td>g989</td>\n",
       "      <td>Propriva</td>\n",
       "      <td>Female</td>\n",
       "      <td>21</td>\n",
       "      <td>26</td>\n",
       "      <td>5</td>\n",
       "      <td>48.786801</td>\n",
       "      <td>0</td>\n",
       "    </tr>\n",
       "    <tr>\n",
       "      <th>911</th>\n",
       "      <td>g989</td>\n",
       "      <td>Propriva</td>\n",
       "      <td>Female</td>\n",
       "      <td>21</td>\n",
       "      <td>26</td>\n",
       "      <td>5</td>\n",
       "      <td>47.570392</td>\n",
       "      <td>0</td>\n",
       "    </tr>\n",
       "    <tr>\n",
       "      <th>912</th>\n",
       "      <td>g989</td>\n",
       "      <td>Propriva</td>\n",
       "      <td>Female</td>\n",
       "      <td>21</td>\n",
       "      <td>26</td>\n",
       "      <td>10</td>\n",
       "      <td>51.745156</td>\n",
       "      <td>0</td>\n",
       "    </tr>\n",
       "    <tr>\n",
       "      <th>913</th>\n",
       "      <td>g989</td>\n",
       "      <td>Propriva</td>\n",
       "      <td>Female</td>\n",
       "      <td>21</td>\n",
       "      <td>26</td>\n",
       "      <td>10</td>\n",
       "      <td>49.880528</td>\n",
       "      <td>0</td>\n",
       "    </tr>\n",
       "    <tr>\n",
       "      <th>914</th>\n",
       "      <td>g989</td>\n",
       "      <td>Propriva</td>\n",
       "      <td>Female</td>\n",
       "      <td>21</td>\n",
       "      <td>26</td>\n",
       "      <td>15</td>\n",
       "      <td>51.325852</td>\n",
       "      <td>1</td>\n",
       "    </tr>\n",
       "    <tr>\n",
       "      <th>915</th>\n",
       "      <td>g989</td>\n",
       "      <td>Propriva</td>\n",
       "      <td>Female</td>\n",
       "      <td>21</td>\n",
       "      <td>26</td>\n",
       "      <td>15</td>\n",
       "      <td>53.442020</td>\n",
       "      <td>0</td>\n",
       "    </tr>\n",
       "    <tr>\n",
       "      <th>916</th>\n",
       "      <td>g989</td>\n",
       "      <td>Propriva</td>\n",
       "      <td>Female</td>\n",
       "      <td>21</td>\n",
       "      <td>26</td>\n",
       "      <td>20</td>\n",
       "      <td>55.326122</td>\n",
       "      <td>1</td>\n",
       "    </tr>\n",
       "    <tr>\n",
       "      <th>917</th>\n",
       "      <td>g989</td>\n",
       "      <td>Propriva</td>\n",
       "      <td>Female</td>\n",
       "      <td>21</td>\n",
       "      <td>26</td>\n",
       "      <td>20</td>\n",
       "      <td>54.657650</td>\n",
       "      <td>1</td>\n",
       "    </tr>\n",
       "    <tr>\n",
       "      <th>918</th>\n",
       "      <td>g989</td>\n",
       "      <td>Propriva</td>\n",
       "      <td>Female</td>\n",
       "      <td>21</td>\n",
       "      <td>26</td>\n",
       "      <td>25</td>\n",
       "      <td>56.045564</td>\n",
       "      <td>1</td>\n",
       "    </tr>\n",
       "    <tr>\n",
       "      <th>919</th>\n",
       "      <td>g989</td>\n",
       "      <td>Propriva</td>\n",
       "      <td>Female</td>\n",
       "      <td>21</td>\n",
       "      <td>26</td>\n",
       "      <td>30</td>\n",
       "      <td>59.082294</td>\n",
       "      <td>1</td>\n",
       "    </tr>\n",
       "    <tr>\n",
       "      <th>920</th>\n",
       "      <td>g989</td>\n",
       "      <td>Propriva</td>\n",
       "      <td>Female</td>\n",
       "      <td>21</td>\n",
       "      <td>26</td>\n",
       "      <td>35</td>\n",
       "      <td>62.570880</td>\n",
       "      <td>2</td>\n",
       "    </tr>\n",
       "  </tbody>\n",
       "</table>\n",
       "</div>"
      ],
      "text/plain": [
       "    Mouse_ID Drug_Regimen     Sex  Age_Months  Weight_Grams  Timepoint  \\\n",
       "908     g989     Propriva  Female          21            26          0   \n",
       "909     g989     Propriva  Female          21            26          0   \n",
       "910     g989     Propriva  Female          21            26          5   \n",
       "911     g989     Propriva  Female          21            26          5   \n",
       "912     g989     Propriva  Female          21            26         10   \n",
       "913     g989     Propriva  Female          21            26         10   \n",
       "914     g989     Propriva  Female          21            26         15   \n",
       "915     g989     Propriva  Female          21            26         15   \n",
       "916     g989     Propriva  Female          21            26         20   \n",
       "917     g989     Propriva  Female          21            26         20   \n",
       "918     g989     Propriva  Female          21            26         25   \n",
       "919     g989     Propriva  Female          21            26         30   \n",
       "920     g989     Propriva  Female          21            26         35   \n",
       "\n",
       "     Tumor_Vol_mm3  Metastatic_Sites  \n",
       "908      45.000000                 0  \n",
       "909      45.000000                 0  \n",
       "910      48.786801                 0  \n",
       "911      47.570392                 0  \n",
       "912      51.745156                 0  \n",
       "913      49.880528                 0  \n",
       "914      51.325852                 1  \n",
       "915      53.442020                 0  \n",
       "916      55.326122                 1  \n",
       "917      54.657650                 1  \n",
       "918      56.045564                 1  \n",
       "919      59.082294                 1  \n",
       "920      62.570880                 2  "
      ]
     },
     "execution_count": 13,
     "metadata": {},
     "output_type": "execute_result"
    }
   ],
   "source": [
    "# Display all of the data associated with the Mouse ID(s) that caused duplicate 'Mouse ID & Timestamp' combinations.\n",
    "\n",
    "Data_to_Delete=study_data_merged_df.loc[study_data_merged_df[\"Mouse_ID\"].isin(duplicate_IDs), :]\n",
    "Data_to_Delete\n",
    "\n",
    "# Below is code which manually identifies data to be deleted, one Mouse ID at a time. It would be fine to use in this problem.\n",
    "# The user would need to enter the Mouse_ID at the end of the code each time.\n",
    "# In an experiment where multiple Mouse_Ids need to be deleted, using the code below would be time-consuming. \n",
    "\n",
    "# Matching_Rows=study_data_merged_df.loc[study_data_merged_df[\"Mouse_ID\"]==\"g989\", :]\n",
    "# Matching_Rows"
   ]
  },
  {
   "cell_type": "code",
   "execution_count": 14,
   "metadata": {},
   "outputs": [
    {
     "data": {
      "text/plain": [
       "(13, 8)"
      ]
     },
     "execution_count": 14,
     "metadata": {},
     "output_type": "execute_result"
    }
   ],
   "source": [
    "# Determine the total number of rows that will need to be deleted from the study_data_merged_df data frame.\n",
    "\n",
    "Data_to_Delete.shape\n"
   ]
  },
  {
   "cell_type": "code",
   "execution_count": 15,
   "metadata": {},
   "outputs": [
    {
     "data": {
      "text/html": [
       "<div>\n",
       "<style scoped>\n",
       "    .dataframe tbody tr th:only-of-type {\n",
       "        vertical-align: middle;\n",
       "    }\n",
       "\n",
       "    .dataframe tbody tr th {\n",
       "        vertical-align: top;\n",
       "    }\n",
       "\n",
       "    .dataframe thead th {\n",
       "        text-align: right;\n",
       "    }\n",
       "</style>\n",
       "<table border=\"1\" class=\"dataframe\">\n",
       "  <thead>\n",
       "    <tr style=\"text-align: right;\">\n",
       "      <th></th>\n",
       "      <th>Mouse_ID</th>\n",
       "      <th>Drug_Regimen</th>\n",
       "      <th>Sex</th>\n",
       "      <th>Age_Months</th>\n",
       "      <th>Weight_Grams</th>\n",
       "      <th>Timepoint</th>\n",
       "      <th>Tumor_Vol_mm3</th>\n",
       "      <th>Metastatic_Sites</th>\n",
       "    </tr>\n",
       "  </thead>\n",
       "  <tbody>\n",
       "    <tr>\n",
       "      <th>0</th>\n",
       "      <td>k403</td>\n",
       "      <td>Ramicane</td>\n",
       "      <td>Male</td>\n",
       "      <td>21</td>\n",
       "      <td>16</td>\n",
       "      <td>0</td>\n",
       "      <td>45.000000</td>\n",
       "      <td>0</td>\n",
       "    </tr>\n",
       "    <tr>\n",
       "      <th>1</th>\n",
       "      <td>k403</td>\n",
       "      <td>Ramicane</td>\n",
       "      <td>Male</td>\n",
       "      <td>21</td>\n",
       "      <td>16</td>\n",
       "      <td>5</td>\n",
       "      <td>38.825898</td>\n",
       "      <td>0</td>\n",
       "    </tr>\n",
       "    <tr>\n",
       "      <th>2</th>\n",
       "      <td>k403</td>\n",
       "      <td>Ramicane</td>\n",
       "      <td>Male</td>\n",
       "      <td>21</td>\n",
       "      <td>16</td>\n",
       "      <td>10</td>\n",
       "      <td>35.014271</td>\n",
       "      <td>1</td>\n",
       "    </tr>\n",
       "    <tr>\n",
       "      <th>3</th>\n",
       "      <td>k403</td>\n",
       "      <td>Ramicane</td>\n",
       "      <td>Male</td>\n",
       "      <td>21</td>\n",
       "      <td>16</td>\n",
       "      <td>15</td>\n",
       "      <td>34.223992</td>\n",
       "      <td>1</td>\n",
       "    </tr>\n",
       "    <tr>\n",
       "      <th>4</th>\n",
       "      <td>k403</td>\n",
       "      <td>Ramicane</td>\n",
       "      <td>Male</td>\n",
       "      <td>21</td>\n",
       "      <td>16</td>\n",
       "      <td>20</td>\n",
       "      <td>32.997729</td>\n",
       "      <td>1</td>\n",
       "    </tr>\n",
       "    <tr>\n",
       "      <th>...</th>\n",
       "      <td>...</td>\n",
       "      <td>...</td>\n",
       "      <td>...</td>\n",
       "      <td>...</td>\n",
       "      <td>...</td>\n",
       "      <td>...</td>\n",
       "      <td>...</td>\n",
       "      <td>...</td>\n",
       "    </tr>\n",
       "    <tr>\n",
       "      <th>1888</th>\n",
       "      <td>z969</td>\n",
       "      <td>Naftisol</td>\n",
       "      <td>Male</td>\n",
       "      <td>9</td>\n",
       "      <td>30</td>\n",
       "      <td>25</td>\n",
       "      <td>63.145652</td>\n",
       "      <td>2</td>\n",
       "    </tr>\n",
       "    <tr>\n",
       "      <th>1889</th>\n",
       "      <td>z969</td>\n",
       "      <td>Naftisol</td>\n",
       "      <td>Male</td>\n",
       "      <td>9</td>\n",
       "      <td>30</td>\n",
       "      <td>30</td>\n",
       "      <td>65.841013</td>\n",
       "      <td>3</td>\n",
       "    </tr>\n",
       "    <tr>\n",
       "      <th>1890</th>\n",
       "      <td>z969</td>\n",
       "      <td>Naftisol</td>\n",
       "      <td>Male</td>\n",
       "      <td>9</td>\n",
       "      <td>30</td>\n",
       "      <td>35</td>\n",
       "      <td>69.176246</td>\n",
       "      <td>4</td>\n",
       "    </tr>\n",
       "    <tr>\n",
       "      <th>1891</th>\n",
       "      <td>z969</td>\n",
       "      <td>Naftisol</td>\n",
       "      <td>Male</td>\n",
       "      <td>9</td>\n",
       "      <td>30</td>\n",
       "      <td>40</td>\n",
       "      <td>70.314904</td>\n",
       "      <td>4</td>\n",
       "    </tr>\n",
       "    <tr>\n",
       "      <th>1892</th>\n",
       "      <td>z969</td>\n",
       "      <td>Naftisol</td>\n",
       "      <td>Male</td>\n",
       "      <td>9</td>\n",
       "      <td>30</td>\n",
       "      <td>45</td>\n",
       "      <td>73.867845</td>\n",
       "      <td>4</td>\n",
       "    </tr>\n",
       "  </tbody>\n",
       "</table>\n",
       "<p>1880 rows × 8 columns</p>\n",
       "</div>"
      ],
      "text/plain": [
       "     Mouse_ID Drug_Regimen   Sex  Age_Months  Weight_Grams  Timepoint  \\\n",
       "0        k403     Ramicane  Male          21            16          0   \n",
       "1        k403     Ramicane  Male          21            16          5   \n",
       "2        k403     Ramicane  Male          21            16         10   \n",
       "3        k403     Ramicane  Male          21            16         15   \n",
       "4        k403     Ramicane  Male          21            16         20   \n",
       "...       ...          ...   ...         ...           ...        ...   \n",
       "1888     z969     Naftisol  Male           9            30         25   \n",
       "1889     z969     Naftisol  Male           9            30         30   \n",
       "1890     z969     Naftisol  Male           9            30         35   \n",
       "1891     z969     Naftisol  Male           9            30         40   \n",
       "1892     z969     Naftisol  Male           9            30         45   \n",
       "\n",
       "      Tumor_Vol_mm3  Metastatic_Sites  \n",
       "0         45.000000                 0  \n",
       "1         38.825898                 0  \n",
       "2         35.014271                 1  \n",
       "3         34.223992                 1  \n",
       "4         32.997729                 1  \n",
       "...             ...               ...  \n",
       "1888      63.145652                 2  \n",
       "1889      65.841013                 3  \n",
       "1890      69.176246                 4  \n",
       "1891      70.314904                 4  \n",
       "1892      73.867845                 4  \n",
       "\n",
       "[1880 rows x 8 columns]"
      ]
     },
     "execution_count": 15,
     "metadata": {},
     "output_type": "execute_result"
    }
   ],
   "source": [
    "# Clean the data frame by dropping ALL data relating to Mouse IDs where duplicate 'Mouse ID & Timepoint' combos were created.\n",
    "\n",
    "Cleaned_df=study_data_merged_df.loc[~study_data_merged_df[\"Mouse_ID\"].isin(duplicate_IDs), :]\n",
    "Cleaned_df\n",
    "\n",
    "# Below is code that one might use to manually remove undesirable Mouse-IDs from the dataframe.\n",
    "\n",
    "# Data_to_Keep_df=study_data_merged_df.loc[study_data_merged_df[\"Mouse_ID\"] != \"g989\", :]\n",
    "# Data_to_Keep_df\n"
   ]
  },
  {
   "cell_type": "code",
   "execution_count": 16,
   "metadata": {},
   "outputs": [
    {
     "data": {
      "text/plain": [
       "(1880, 8)"
      ]
     },
     "execution_count": 16,
     "metadata": {},
     "output_type": "execute_result"
    }
   ],
   "source": [
    "# Determine the total number of columns and rows of the newly cleaned data frame.\n",
    "\n",
    "Cleaned_df.shape\n"
   ]
  },
  {
   "cell_type": "code",
   "execution_count": 17,
   "metadata": {},
   "outputs": [
    {
     "name": "stdout",
     "output_type": "stream",
     "text": [
      "There are 248 mice in the experiment.\n"
     ]
    }
   ],
   "source": [
    "# Checking the number of mice in the newly cleaned DataFrame.\n",
    "\n",
    "number_mice_cleaned=Cleaned_df.Mouse_ID.nunique()\n",
    "print(f\"There are {number_mice_cleaned} mice in the experiment.\")\n"
   ]
  },
  {
   "cell_type": "markdown",
   "metadata": {},
   "source": [
    "## Summary Statistics"
   ]
  },
  {
   "cell_type": "code",
   "execution_count": 18,
   "metadata": {},
   "outputs": [
    {
     "data": {
      "text/html": [
       "<div>\n",
       "<style scoped>\n",
       "    .dataframe tbody tr th:only-of-type {\n",
       "        vertical-align: middle;\n",
       "    }\n",
       "\n",
       "    .dataframe tbody tr th {\n",
       "        vertical-align: top;\n",
       "    }\n",
       "\n",
       "    .dataframe thead th {\n",
       "        text-align: right;\n",
       "    }\n",
       "</style>\n",
       "<table border=\"1\" class=\"dataframe\">\n",
       "  <thead>\n",
       "    <tr style=\"text-align: right;\">\n",
       "      <th></th>\n",
       "      <th>Tumor Volume Mean</th>\n",
       "      <th>Tumor Volume Median</th>\n",
       "      <th>Tumor Volume Variance</th>\n",
       "      <th>Tumor Volume StDev</th>\n",
       "      <th>Tumor Volume SEM</th>\n",
       "    </tr>\n",
       "    <tr>\n",
       "      <th>Drug_Regimen</th>\n",
       "      <th></th>\n",
       "      <th></th>\n",
       "      <th></th>\n",
       "      <th></th>\n",
       "      <th></th>\n",
       "    </tr>\n",
       "  </thead>\n",
       "  <tbody>\n",
       "    <tr>\n",
       "      <th>Capomulin</th>\n",
       "      <td>40.675741</td>\n",
       "      <td>41.557809</td>\n",
       "      <td>24.947764</td>\n",
       "      <td>4.994774</td>\n",
       "      <td>0.329346</td>\n",
       "    </tr>\n",
       "    <tr>\n",
       "      <th>Ceftamin</th>\n",
       "      <td>52.591172</td>\n",
       "      <td>51.776157</td>\n",
       "      <td>39.290177</td>\n",
       "      <td>6.268188</td>\n",
       "      <td>0.469821</td>\n",
       "    </tr>\n",
       "    <tr>\n",
       "      <th>Infubinol</th>\n",
       "      <td>52.884795</td>\n",
       "      <td>51.820584</td>\n",
       "      <td>43.128684</td>\n",
       "      <td>6.567243</td>\n",
       "      <td>0.492236</td>\n",
       "    </tr>\n",
       "    <tr>\n",
       "      <th>Ketapril</th>\n",
       "      <td>55.235638</td>\n",
       "      <td>53.698743</td>\n",
       "      <td>68.553577</td>\n",
       "      <td>8.279709</td>\n",
       "      <td>0.603860</td>\n",
       "    </tr>\n",
       "    <tr>\n",
       "      <th>Naftisol</th>\n",
       "      <td>54.331565</td>\n",
       "      <td>52.509285</td>\n",
       "      <td>66.173479</td>\n",
       "      <td>8.134708</td>\n",
       "      <td>0.596466</td>\n",
       "    </tr>\n",
       "    <tr>\n",
       "      <th>Placebo</th>\n",
       "      <td>54.033581</td>\n",
       "      <td>52.288934</td>\n",
       "      <td>61.168083</td>\n",
       "      <td>7.821003</td>\n",
       "      <td>0.581331</td>\n",
       "    </tr>\n",
       "    <tr>\n",
       "      <th>Propriva</th>\n",
       "      <td>52.320930</td>\n",
       "      <td>50.446266</td>\n",
       "      <td>43.852013</td>\n",
       "      <td>6.622085</td>\n",
       "      <td>0.544332</td>\n",
       "    </tr>\n",
       "    <tr>\n",
       "      <th>Ramicane</th>\n",
       "      <td>40.216745</td>\n",
       "      <td>40.673236</td>\n",
       "      <td>23.486704</td>\n",
       "      <td>4.846308</td>\n",
       "      <td>0.320955</td>\n",
       "    </tr>\n",
       "    <tr>\n",
       "      <th>Stelasyn</th>\n",
       "      <td>54.233149</td>\n",
       "      <td>52.431737</td>\n",
       "      <td>59.450562</td>\n",
       "      <td>7.710419</td>\n",
       "      <td>0.573111</td>\n",
       "    </tr>\n",
       "    <tr>\n",
       "      <th>Zoniferol</th>\n",
       "      <td>53.236507</td>\n",
       "      <td>51.818479</td>\n",
       "      <td>48.533355</td>\n",
       "      <td>6.966589</td>\n",
       "      <td>0.516398</td>\n",
       "    </tr>\n",
       "  </tbody>\n",
       "</table>\n",
       "</div>"
      ],
      "text/plain": [
       "              Tumor Volume Mean  Tumor Volume Median  Tumor Volume Variance  \\\n",
       "Drug_Regimen                                                                  \n",
       "Capomulin             40.675741            41.557809              24.947764   \n",
       "Ceftamin              52.591172            51.776157              39.290177   \n",
       "Infubinol             52.884795            51.820584              43.128684   \n",
       "Ketapril              55.235638            53.698743              68.553577   \n",
       "Naftisol              54.331565            52.509285              66.173479   \n",
       "Placebo               54.033581            52.288934              61.168083   \n",
       "Propriva              52.320930            50.446266              43.852013   \n",
       "Ramicane              40.216745            40.673236              23.486704   \n",
       "Stelasyn              54.233149            52.431737              59.450562   \n",
       "Zoniferol             53.236507            51.818479              48.533355   \n",
       "\n",
       "              Tumor Volume StDev  Tumor Volume SEM  \n",
       "Drug_Regimen                                        \n",
       "Capomulin               4.994774          0.329346  \n",
       "Ceftamin                6.268188          0.469821  \n",
       "Infubinol               6.567243          0.492236  \n",
       "Ketapril                8.279709          0.603860  \n",
       "Naftisol                8.134708          0.596466  \n",
       "Placebo                 7.821003          0.581331  \n",
       "Propriva                6.622085          0.544332  \n",
       "Ramicane                4.846308          0.320955  \n",
       "Stelasyn                7.710419          0.573111  \n",
       "Zoniferol               6.966589          0.516398  "
      ]
     },
     "execution_count": 18,
     "metadata": {},
     "output_type": "execute_result"
    }
   ],
   "source": [
    "# Generate a summary statistics table of mean, median, variance, standard deviation, and SEM of the tumor volume for each regimen\n",
    "# Use groupby and summary statistical methods to calculate the following properties of each drug regimen: \n",
    "# mean, median, variance, standard deviation, and SEM of the tumor volume. \n",
    "# Assemble the resulting series into a single summary dataframe.\n",
    "\n",
    "Tumor_Volume_Mean=Cleaned_df.groupby(['Drug_Regimen'])['Tumor_Vol_mm3'].mean()\n",
    "Tumor_Volume_Mean_df=pd.DataFrame({\"Tumor_Volume_Mean\":Tumor_Volume_Mean})\n",
    "\n",
    "Tumor_Volume_Median=Cleaned_df.groupby(['Drug_Regimen'])['Tumor_Vol_mm3'].median()\n",
    "Tumor_Volume_Median_df=pd.DataFrame({\"Tumor_Volume_Median\":Tumor_Volume_Median})\n",
    "\n",
    "Tumor_Volume_Variance=Cleaned_df.groupby(['Drug_Regimen'])['Tumor_Vol_mm3'].var()\n",
    "Tumor_Volume_Variance_df=pd.DataFrame({\"Tumor_Volume_Variance\":Tumor_Volume_Variance})\n",
    "\n",
    "Tumor_Volume_StDev=Cleaned_df.groupby(['Drug_Regimen'])['Tumor_Vol_mm3'].std()\n",
    "Tumor_Volume_StDev_df=pd.DataFrame({\"Tumor_Volume_StDev\":Tumor_Volume_StDev})\n",
    "\n",
    "Tumor_Volume_SEM=Cleaned_df.groupby(['Drug_Regimen'])['Tumor_Vol_mm3'].sem()\n",
    "Tumor_Volume_SEM_df=pd.DataFrame({\"Tumor_Volume_SEM\":Tumor_Volume_SEM})\n",
    "Tumor_Volume_SEM_df\n",
    "\n",
    "Tumor_Stats_By_Regimen1_df=pd.merge(Tumor_Volume_Mean_df, Tumor_Volume_Median_df, how=\"left\", on=[\"Drug_Regimen\"])\n",
    "Tumor_Stats_By_Regimen2_df=pd.merge(Tumor_Stats_By_Regimen1_df, Tumor_Volume_Variance_df, how=\"left\", on=[\"Drug_Regimen\"])\n",
    "Tumor_Stats_By_Regimen3_df=pd.merge(Tumor_Stats_By_Regimen2_df, Tumor_Volume_StDev_df, how=\"left\", on=[\"Drug_Regimen\"])\n",
    "Tumor_Stats_By_Regimen4_df=pd.merge(Tumor_Stats_By_Regimen3_df, Tumor_Volume_SEM_df, how=\"left\", on=[\"Drug_Regimen\"])\n",
    "\n",
    "Tumor_Stats_By_Regimen_Master_df=Tumor_Stats_By_Regimen4_df.rename(columns={\"Tumor_Volume_Mean\": \"Tumor Volume Mean\", \"Tumor_Volume_Median\": \"Tumor Volume Median\", \"Tumor_Volume_Variance\": \"Tumor Volume Variance\", \"Tumor_Volume_StDev\": \"Tumor Volume StDev\", \"Tumor_Volume_SEM\": \"Tumor Volume SEM\"}) \n",
    "Tumor_Stats_By_Regimen_Master_df"
   ]
  },
  {
   "cell_type": "code",
   "execution_count": 19,
   "metadata": {},
   "outputs": [
    {
     "data": {
      "text/html": [
       "<div>\n",
       "<style scoped>\n",
       "    .dataframe tbody tr th:only-of-type {\n",
       "        vertical-align: middle;\n",
       "    }\n",
       "\n",
       "    .dataframe tbody tr th {\n",
       "        vertical-align: top;\n",
       "    }\n",
       "\n",
       "    .dataframe thead th {\n",
       "        text-align: right;\n",
       "    }\n",
       "</style>\n",
       "<table border=\"1\" class=\"dataframe\">\n",
       "  <thead>\n",
       "    <tr style=\"text-align: right;\">\n",
       "      <th></th>\n",
       "      <th>mean</th>\n",
       "      <th>median</th>\n",
       "      <th>var</th>\n",
       "      <th>std</th>\n",
       "      <th>sem</th>\n",
       "    </tr>\n",
       "    <tr>\n",
       "      <th>Drug_Regimen</th>\n",
       "      <th></th>\n",
       "      <th></th>\n",
       "      <th></th>\n",
       "      <th></th>\n",
       "      <th></th>\n",
       "    </tr>\n",
       "  </thead>\n",
       "  <tbody>\n",
       "    <tr>\n",
       "      <th>Capomulin</th>\n",
       "      <td>40.675741</td>\n",
       "      <td>41.557809</td>\n",
       "      <td>24.947764</td>\n",
       "      <td>4.994774</td>\n",
       "      <td>0.329346</td>\n",
       "    </tr>\n",
       "    <tr>\n",
       "      <th>Ceftamin</th>\n",
       "      <td>52.591172</td>\n",
       "      <td>51.776157</td>\n",
       "      <td>39.290177</td>\n",
       "      <td>6.268188</td>\n",
       "      <td>0.469821</td>\n",
       "    </tr>\n",
       "    <tr>\n",
       "      <th>Infubinol</th>\n",
       "      <td>52.884795</td>\n",
       "      <td>51.820584</td>\n",
       "      <td>43.128684</td>\n",
       "      <td>6.567243</td>\n",
       "      <td>0.492236</td>\n",
       "    </tr>\n",
       "    <tr>\n",
       "      <th>Ketapril</th>\n",
       "      <td>55.235638</td>\n",
       "      <td>53.698743</td>\n",
       "      <td>68.553577</td>\n",
       "      <td>8.279709</td>\n",
       "      <td>0.603860</td>\n",
       "    </tr>\n",
       "    <tr>\n",
       "      <th>Naftisol</th>\n",
       "      <td>54.331565</td>\n",
       "      <td>52.509285</td>\n",
       "      <td>66.173479</td>\n",
       "      <td>8.134708</td>\n",
       "      <td>0.596466</td>\n",
       "    </tr>\n",
       "    <tr>\n",
       "      <th>Placebo</th>\n",
       "      <td>54.033581</td>\n",
       "      <td>52.288934</td>\n",
       "      <td>61.168083</td>\n",
       "      <td>7.821003</td>\n",
       "      <td>0.581331</td>\n",
       "    </tr>\n",
       "    <tr>\n",
       "      <th>Propriva</th>\n",
       "      <td>52.320930</td>\n",
       "      <td>50.446266</td>\n",
       "      <td>43.852013</td>\n",
       "      <td>6.622085</td>\n",
       "      <td>0.544332</td>\n",
       "    </tr>\n",
       "    <tr>\n",
       "      <th>Ramicane</th>\n",
       "      <td>40.216745</td>\n",
       "      <td>40.673236</td>\n",
       "      <td>23.486704</td>\n",
       "      <td>4.846308</td>\n",
       "      <td>0.320955</td>\n",
       "    </tr>\n",
       "    <tr>\n",
       "      <th>Stelasyn</th>\n",
       "      <td>54.233149</td>\n",
       "      <td>52.431737</td>\n",
       "      <td>59.450562</td>\n",
       "      <td>7.710419</td>\n",
       "      <td>0.573111</td>\n",
       "    </tr>\n",
       "    <tr>\n",
       "      <th>Zoniferol</th>\n",
       "      <td>53.236507</td>\n",
       "      <td>51.818479</td>\n",
       "      <td>48.533355</td>\n",
       "      <td>6.966589</td>\n",
       "      <td>0.516398</td>\n",
       "    </tr>\n",
       "  </tbody>\n",
       "</table>\n",
       "</div>"
      ],
      "text/plain": [
       "                   mean     median        var       std       sem\n",
       "Drug_Regimen                                                     \n",
       "Capomulin     40.675741  41.557809  24.947764  4.994774  0.329346\n",
       "Ceftamin      52.591172  51.776157  39.290177  6.268188  0.469821\n",
       "Infubinol     52.884795  51.820584  43.128684  6.567243  0.492236\n",
       "Ketapril      55.235638  53.698743  68.553577  8.279709  0.603860\n",
       "Naftisol      54.331565  52.509285  66.173479  8.134708  0.596466\n",
       "Placebo       54.033581  52.288934  61.168083  7.821003  0.581331\n",
       "Propriva      52.320930  50.446266  43.852013  6.622085  0.544332\n",
       "Ramicane      40.216745  40.673236  23.486704  4.846308  0.320955\n",
       "Stelasyn      54.233149  52.431737  59.450562  7.710419  0.573111\n",
       "Zoniferol     53.236507  51.818479  48.533355  6.966589  0.516398"
      ]
     },
     "execution_count": 19,
     "metadata": {},
     "output_type": "execute_result"
    }
   ],
   "source": [
    "# Generate a summary statistics table of mean, median, variance, standard deviation, and SEM of the tumor volume for each regimen\n",
    "\n",
    "# Using the aggregation method, produce the same summary statistics in a single line\n",
    "\n",
    "Tumor_Volume_Summary_ByReg_df=Cleaned_df.groupby(['Drug_Regimen'])['Tumor_Vol_mm3'].agg(['mean', 'median', 'var', 'std', 'sem'])\n",
    "Tumor_Volume_Summary_ByReg_df"
   ]
  },
  {
   "cell_type": "markdown",
   "metadata": {},
   "source": [
    "## Bar and Pie Charts"
   ]
  },
  {
   "cell_type": "code",
   "execution_count": 20,
   "metadata": {},
   "outputs": [
    {
     "data": {
      "text/html": [
       "<div>\n",
       "<style scoped>\n",
       "    .dataframe tbody tr th:only-of-type {\n",
       "        vertical-align: middle;\n",
       "    }\n",
       "\n",
       "    .dataframe tbody tr th {\n",
       "        vertical-align: top;\n",
       "    }\n",
       "\n",
       "    .dataframe thead th {\n",
       "        text-align: right;\n",
       "    }\n",
       "</style>\n",
       "<table border=\"1\" class=\"dataframe\">\n",
       "  <thead>\n",
       "    <tr style=\"text-align: right;\">\n",
       "      <th></th>\n",
       "      <th>Timepoint_Totals_ByReg</th>\n",
       "    </tr>\n",
       "    <tr>\n",
       "      <th>Drug_Regimen</th>\n",
       "      <th></th>\n",
       "    </tr>\n",
       "  </thead>\n",
       "  <tbody>\n",
       "    <tr>\n",
       "      <th>Capomulin</th>\n",
       "      <td>230</td>\n",
       "    </tr>\n",
       "    <tr>\n",
       "      <th>Ceftamin</th>\n",
       "      <td>178</td>\n",
       "    </tr>\n",
       "    <tr>\n",
       "      <th>Infubinol</th>\n",
       "      <td>178</td>\n",
       "    </tr>\n",
       "    <tr>\n",
       "      <th>Ketapril</th>\n",
       "      <td>188</td>\n",
       "    </tr>\n",
       "    <tr>\n",
       "      <th>Naftisol</th>\n",
       "      <td>186</td>\n",
       "    </tr>\n",
       "    <tr>\n",
       "      <th>Placebo</th>\n",
       "      <td>181</td>\n",
       "    </tr>\n",
       "    <tr>\n",
       "      <th>Propriva</th>\n",
       "      <td>148</td>\n",
       "    </tr>\n",
       "    <tr>\n",
       "      <th>Ramicane</th>\n",
       "      <td>228</td>\n",
       "    </tr>\n",
       "    <tr>\n",
       "      <th>Stelasyn</th>\n",
       "      <td>181</td>\n",
       "    </tr>\n",
       "    <tr>\n",
       "      <th>Zoniferol</th>\n",
       "      <td>182</td>\n",
       "    </tr>\n",
       "  </tbody>\n",
       "</table>\n",
       "</div>"
      ],
      "text/plain": [
       "              Timepoint_Totals_ByReg\n",
       "Drug_Regimen                        \n",
       "Capomulin                        230\n",
       "Ceftamin                         178\n",
       "Infubinol                        178\n",
       "Ketapril                         188\n",
       "Naftisol                         186\n",
       "Placebo                          181\n",
       "Propriva                         148\n",
       "Ramicane                         228\n",
       "Stelasyn                         181\n",
       "Zoniferol                        182"
      ]
     },
     "execution_count": 20,
     "metadata": {},
     "output_type": "execute_result"
    }
   ],
   "source": [
    "# Generate a bar plot showing the total number of timepoints for all mice tested for each drug regimen using Pandas.\n",
    "\n",
    "# Create a data frame with the number of timepoints counted per regimen.\n",
    "\n",
    "Timepoint_Totals_ByReg=Cleaned_df.groupby(['Drug_Regimen'])['Timepoint'].count()\n",
    "Timepoint_Totals_ByReg_df=pd.DataFrame({\"Timepoint_Totals_ByReg\": Timepoint_Totals_ByReg})\n",
    "# Timepoint_Totals_ByReg_df.reset_index(inplace=True)\n",
    "Timepoint_Totals_ByReg_df"
   ]
  },
  {
   "cell_type": "code",
   "execution_count": 21,
   "metadata": {},
   "outputs": [
    {
     "data": {
      "image/png": "[encoded data removed]",
      "text/plain": [
       "<Figure size 720x324 with 1 Axes>"
      ]
     },
     "metadata": {
      "needs_background": "light"
     },
     "output_type": "display_data"
    }
   ],
   "source": [
    "# Set up plot using pandas:\n",
    "\n",
    "Timepoint_Totals_ByReg_df.plot(kind=\"bar\", figsize=(10, 4.5), legend=False)\n",
    "\n",
    "plt.title('Timepoints per Drug Regimen')\n",
    "plt.xlabel('Drug Regimen')\n",
    "plt.ylabel('Number of Timepoints')\n",
    "plt.ylim(0, 250)\n",
    "\n",
    "plt.show()\n"
   ]
  },
  {
   "cell_type": "code",
   "execution_count": 22,
   "metadata": {},
   "outputs": [],
   "source": [
    "# Generate a bar plot showing the total number of timepoints for all mice tested for each drug regimen using pyplot.\n",
    "\n",
    "# Import potentially helpful dependencies.\n",
    "\n",
    "import numpy as np\n",
    "\n",
    "# Reset index to make Drug_Regimen a column in the data frame.\n",
    "\n",
    "Timepoint_Totals_ByReg_df_Reset=Timepoint_Totals_ByReg_df.reset_index(inplace=True)\n"
   ]
  },
  {
   "cell_type": "code",
   "execution_count": 23,
   "metadata": {},
   "outputs": [
    {
     "data": {
      "text/plain": [
       "['Capomulin',\n",
       " 'Ceftamin',\n",
       " 'Infubinol',\n",
       " 'Ketapril',\n",
       " 'Naftisol',\n",
       " 'Placebo',\n",
       " 'Propriva',\n",
       " 'Ramicane',\n",
       " 'Stelasyn',\n",
       " 'Zoniferol']"
      ]
     },
     "execution_count": 23,
     "metadata": {},
     "output_type": "execute_result"
    }
   ],
   "source": [
    "# Create list of regimens and set to x-axis.\n",
    "\n",
    "RegimensToList=Timepoint_Totals_ByReg_df[\"Drug_Regimen\"].tolist()\n",
    "x_axis=np.arange(len(RegimensToList))\n",
    "RegimensToList\n"
   ]
  },
  {
   "cell_type": "code",
   "execution_count": 24,
   "metadata": {},
   "outputs": [
    {
     "data": {
      "text/plain": [
       "[230, 178, 178, 188, 186, 181, 148, 228, 181, 182]"
      ]
     },
     "execution_count": 24,
     "metadata": {},
     "output_type": "execute_result"
    }
   ],
   "source": [
    "# Create list of counts per regimen.\n",
    "\n",
    "SumTimepointsToList=Timepoint_Totals_ByReg_df[\"Timepoint_Totals_ByReg\"].tolist()\n",
    "SumTimepointsToList\n"
   ]
  },
  {
   "cell_type": "code",
   "execution_count": 25,
   "metadata": {},
   "outputs": [
    {
     "data": {
      "image/png": "[encoded data removed]",
      "text/plain": [
       "<Figure size 432x288 with 1 Axes>"
      ]
     },
     "metadata": {
      "needs_background": "light"
     },
     "output_type": "display_data"
    }
   ],
   "source": [
    "# Set up plot in pyplot:\n",
    "\n",
    "plt.bar(x_axis, SumTimepointsToList, color='r', alpha=0.5, align=\"center\")\n",
    "tick_locations=[value for value in x_axis]\n",
    "plt.xticks(tick_locations, RegimensToList, rotation=\"vertical\")\n",
    "plt.xlim(-0.75, len(x_axis)-0.25)\n",
    "plt.ylim(0, max(SumTimepointsToList)+20)\n",
    "\n",
    "plt.title('Timepoints per Drug Regimen')\n",
    "plt.xlabel('Drug Regimen')\n",
    "plt.ylabel('Number of Timepoints')\n",
    "\n",
    "plt.show()"
   ]
  },
  {
   "cell_type": "code",
   "execution_count": 26,
   "metadata": {},
   "outputs": [
    {
     "data": {
      "text/html": [
       "<div>\n",
       "<style scoped>\n",
       "    .dataframe tbody tr th:only-of-type {\n",
       "        vertical-align: middle;\n",
       "    }\n",
       "\n",
       "    .dataframe tbody tr th {\n",
       "        vertical-align: top;\n",
       "    }\n",
       "\n",
       "    .dataframe thead th {\n",
       "        text-align: right;\n",
       "    }\n",
       "</style>\n",
       "<table border=\"1\" class=\"dataframe\">\n",
       "  <thead>\n",
       "    <tr style=\"text-align: right;\">\n",
       "      <th></th>\n",
       "      <th>Sex_Totals</th>\n",
       "    </tr>\n",
       "  </thead>\n",
       "  <tbody>\n",
       "    <tr>\n",
       "      <th>Male</th>\n",
       "      <td>958</td>\n",
       "    </tr>\n",
       "    <tr>\n",
       "      <th>Female</th>\n",
       "      <td>922</td>\n",
       "    </tr>\n",
       "  </tbody>\n",
       "</table>\n",
       "</div>"
      ],
      "text/plain": [
       "        Sex_Totals\n",
       "Male           958\n",
       "Female         922"
      ]
     },
     "execution_count": 26,
     "metadata": {},
     "output_type": "execute_result"
    }
   ],
   "source": [
    "# Generate a pie plot showing the distribution of female versus male mice using Pandas\n",
    "\n",
    "# Create a data frame with the number of each sex.\n",
    "\n",
    "Sex_Totals=Cleaned_df[\"Sex\"].value_counts()\n",
    "Sex_Totals_df=pd.DataFrame({\"Sex_Totals\":Sex_Totals})\n",
    "Sex_Totals_df\n"
   ]
  },
  {
   "cell_type": "code",
   "execution_count": 27,
   "metadata": {},
   "outputs": [
    {
     "data": {
      "image/png": "[encoded data removed]",
      "text/plain": [
       "<Figure size 360x360 with 1 Axes>"
      ]
     },
     "metadata": {},
     "output_type": "display_data"
    }
   ],
   "source": [
    "Sex_Totals_df.plot.pie(y='Sex_Totals', figsize=(5, 5), title=\"Sex of Mice\", legend=True, ylabel=\"\", autopct='%0.2f%%')\n",
    "\n",
    "plt.show()"
   ]
  },
  {
   "cell_type": "code",
   "execution_count": 28,
   "metadata": {},
   "outputs": [
    {
     "data": {
      "image/png": "[encoded data removed]",
      "text/plain": [
       "<Figure size 432x288 with 1 Axes>"
      ]
     },
     "metadata": {},
     "output_type": "display_data"
    }
   ],
   "source": [
    "# Generate a pie plot showing the distribution of female versus male mice using pyplot.\n",
    "\n",
    "Sex_Totals=Cleaned_df[\"Sex\"].value_counts()\n",
    "\n",
    "labels=[\"Male\", \"Female\"]\n",
    "colors = [\"grey\",\"cyan\"]\n",
    "explode = (0,0)\n",
    "\n",
    "plt.pie(Sex_Totals, explode=explode, labels=labels, colors=colors, shadow=True, startangle=140, autopct='%0.2f%%')\n",
    "\n",
    "# Create axes which are equal so we have a perfect circle\n",
    "plt.axis(\"equal\")\n",
    "plt.legend(loc=\"best\")\n",
    "plt.title(\"Sex of Mice\")\n",
    "\n",
    "plt.show()"
   ]
  },
  {
   "cell_type": "markdown",
   "metadata": {},
   "source": [
    "## Quartiles, Outliers and Boxplots"
   ]
  },
  {
   "cell_type": "code",
   "execution_count": 29,
   "metadata": {},
   "outputs": [
    {
     "data": {
      "text/html": [
       "<div>\n",
       "<style scoped>\n",
       "    .dataframe tbody tr th:only-of-type {\n",
       "        vertical-align: middle;\n",
       "    }\n",
       "\n",
       "    .dataframe tbody tr th {\n",
       "        vertical-align: top;\n",
       "    }\n",
       "\n",
       "    .dataframe thead th {\n",
       "        text-align: right;\n",
       "    }\n",
       "</style>\n",
       "<table border=\"1\" class=\"dataframe\">\n",
       "  <thead>\n",
       "    <tr style=\"text-align: right;\">\n",
       "      <th></th>\n",
       "      <th>Mouse_ID</th>\n",
       "      <th>Tumor_Vol_mm3</th>\n",
       "      <th>Drug_Regimen</th>\n",
       "      <th>Mouse_Timepoint_Last</th>\n",
       "    </tr>\n",
       "  </thead>\n",
       "  <tbody>\n",
       "    <tr>\n",
       "      <th>9</th>\n",
       "      <td>a203</td>\n",
       "      <td>67.973419</td>\n",
       "      <td>Infubinol</td>\n",
       "      <td>45</td>\n",
       "    </tr>\n",
       "    <tr>\n",
       "      <th>19</th>\n",
       "      <td>a251</td>\n",
       "      <td>65.525743</td>\n",
       "      <td>Infubinol</td>\n",
       "      <td>45</td>\n",
       "    </tr>\n",
       "    <tr>\n",
       "      <th>29</th>\n",
       "      <td>a262</td>\n",
       "      <td>70.717621</td>\n",
       "      <td>Placebo</td>\n",
       "      <td>45</td>\n",
       "    </tr>\n",
       "    <tr>\n",
       "      <th>39</th>\n",
       "      <td>a275</td>\n",
       "      <td>62.999356</td>\n",
       "      <td>Ceftamin</td>\n",
       "      <td>45</td>\n",
       "    </tr>\n",
       "    <tr>\n",
       "      <th>46</th>\n",
       "      <td>a366</td>\n",
       "      <td>63.440686</td>\n",
       "      <td>Stelasyn</td>\n",
       "      <td>30</td>\n",
       "    </tr>\n",
       "  </tbody>\n",
       "</table>\n",
       "</div>"
      ],
      "text/plain": [
       "   Mouse_ID  Tumor_Vol_mm3 Drug_Regimen  Mouse_Timepoint_Last\n",
       "9      a203      67.973419    Infubinol                    45\n",
       "19     a251      65.525743    Infubinol                    45\n",
       "29     a262      70.717621      Placebo                    45\n",
       "39     a275      62.999356     Ceftamin                    45\n",
       "46     a366      63.440686     Stelasyn                    30"
      ]
     },
     "execution_count": 29,
     "metadata": {},
     "output_type": "execute_result"
    }
   ],
   "source": [
    "# Calculate the final tumor volume of each mouse across four of the treatment regimens:  Capomulin, Ramicane, Infubinol, and Ceftamin\n",
    "\n",
    "# Start by getting the last (greatest) timepoint for each mouse\n",
    "\n",
    "Mouse_Timepoint_Last=Cleaned_df.groupby(['Mouse_ID'])['Timepoint'].max()\n",
    "Mouse_Timepoint_Last_df=pd.DataFrame({\"Mouse_Timepoint_Last\":Mouse_Timepoint_Last})\n",
    "\n",
    "# Merge this group df with the original dataframe to get the tumor volume at the last timepoint\n",
    "\n",
    "Merged_Last_Timpoint_df=pd.merge(Mouse_Timepoint_Last_df, Cleaned_df, how=\"left\", on=[\"Mouse_ID\"])\n",
    "\n",
    "Only_Last_df=Merged_Last_Timpoint_df.loc[Merged_Last_Timpoint_df[\"Timepoint\"] == Merged_Last_Timpoint_df[\"Mouse_Timepoint_Last\"], [\"Mouse_ID\", \"Tumor_Vol_mm3\", \"Drug_Regimen\", \"Mouse_Timepoint_Last\"]]\n",
    "Only_Last_df.head()"
   ]
  },
  {
   "cell_type": "code",
   "execution_count": 30,
   "metadata": {},
   "outputs": [
    {
     "data": {
      "text/html": [
       "<div>\n",
       "<style scoped>\n",
       "    .dataframe tbody tr th:only-of-type {\n",
       "        vertical-align: middle;\n",
       "    }\n",
       "\n",
       "    .dataframe tbody tr th {\n",
       "        vertical-align: top;\n",
       "    }\n",
       "\n",
       "    .dataframe thead th {\n",
       "        text-align: right;\n",
       "    }\n",
       "</style>\n",
       "<table border=\"1\" class=\"dataframe\">\n",
       "  <thead>\n",
       "    <tr style=\"text-align: right;\">\n",
       "      <th></th>\n",
       "      <th>Capomulin</th>\n",
       "      <th>Ramicane</th>\n",
       "      <th>Infubinol</th>\n",
       "      <th>Ceftamin</th>\n",
       "    </tr>\n",
       "  </thead>\n",
       "  <tbody>\n",
       "    <tr>\n",
       "      <th>0</th>\n",
       "      <td>38.982878</td>\n",
       "      <td>38.407618</td>\n",
       "      <td>67.973419</td>\n",
       "      <td>62.999356</td>\n",
       "    </tr>\n",
       "    <tr>\n",
       "      <th>1</th>\n",
       "      <td>38.939633</td>\n",
       "      <td>43.047543</td>\n",
       "      <td>65.525743</td>\n",
       "      <td>45.000000</td>\n",
       "    </tr>\n",
       "    <tr>\n",
       "      <th>2</th>\n",
       "      <td>30.485985</td>\n",
       "      <td>38.810366</td>\n",
       "      <td>57.031862</td>\n",
       "      <td>56.057749</td>\n",
       "    </tr>\n",
       "    <tr>\n",
       "      <th>3</th>\n",
       "      <td>37.074024</td>\n",
       "      <td>32.978522</td>\n",
       "      <td>66.083066</td>\n",
       "      <td>55.742829</td>\n",
       "    </tr>\n",
       "    <tr>\n",
       "      <th>4</th>\n",
       "      <td>40.159220</td>\n",
       "      <td>38.342008</td>\n",
       "      <td>72.226731</td>\n",
       "      <td>48.722078</td>\n",
       "    </tr>\n",
       "  </tbody>\n",
       "</table>\n",
       "</div>"
      ],
      "text/plain": [
       "   Capomulin   Ramicane  Infubinol   Ceftamin\n",
       "0  38.982878  38.407618  67.973419  62.999356\n",
       "1  38.939633  43.047543  65.525743  45.000000\n",
       "2  30.485985  38.810366  57.031862  56.057749\n",
       "3  37.074024  32.978522  66.083066  55.742829\n",
       "4  40.159220  38.342008  72.226731  48.722078"
      ]
     },
     "execution_count": 30,
     "metadata": {},
     "output_type": "execute_result"
    }
   ],
   "source": [
    "# Put treatments into a list for the upcoming for loop. (And later for plot labels.)\n",
    "\n",
    "Treatments = ['Capomulin', 'Ramicane', 'Infubinol', 'Ceftamin']\n",
    "\n",
    "# Create empty list to fill with tumor vol data (for plotting).\n",
    "\n",
    "# Locate the rows which contain mice on each drug and get the tumor volumes.\n",
    "\n",
    "List={}\n",
    " \n",
    "for treatment in Treatments:\n",
    "    for index, row in Only_Last_df.iterrows():\n",
    "        if row[\"Drug_Regimen\"] == treatment:\n",
    "            List.setdefault(treatment, []).append(row[\"Tumor_Vol_mm3\"])\n",
    "Final_Vols_Each_Treatment_df= pd.DataFrame(List)\n",
    "Final_Vols_Each_Treatment_df.head()\n",
    "    "
   ]
  },
  {
   "cell_type": "code",
   "execution_count": 31,
   "metadata": {},
   "outputs": [
    {
     "name": "stdout",
     "output_type": "stream",
     "text": [
      "Drug Regimen - Capomulin:\n",
      "---------------------------------------------------\n",
      "The lower quartile of Tumor Volume is 32.37735684 mm3.\n",
      "The upper quartile of Tumor Volume is 40.1592203 mm3.\n",
      "The Interquartile range of Tumor Volume is 7.781863460000004 mm3.\n",
      "Outliers will occur outside the range [20.70456164999999, 51.83201549]\n",
      "---------------------------------------------------\n",
      "Drug Regimen - Ramicane:\n",
      "---------------------------------------------------\n",
      "The lower quartile of Tumor Volume is 31.56046955 mm3.\n",
      "The upper quartile of Tumor Volume is 40.65900627 mm3.\n",
      "The Interquartile range of Tumor Volume is 9.098536719999998 mm3.\n",
      "Outliers will occur outside the range [17.912664470000003, 54.30681135]\n",
      "---------------------------------------------------\n",
      "Drug Regimen - Infubinol:\n",
      "---------------------------------------------------\n",
      "The lower quartile of Tumor Volume is 54.04860769 mm3.\n",
      "The upper quartile of Tumor Volume is 65.52574285 mm3.\n",
      "The Interquartile range of Tumor Volume is 11.477135160000003 mm3.\n",
      "Outliers will occur outside the range [36.83290494999999, 82.74144559000001]\n",
      "---------------------------------------------------\n",
      "Drug Regimen - Ceftamin:\n",
      "---------------------------------------------------\n",
      "The lower quartile of Tumor Volume is 48.72207785 mm3.\n",
      "The upper quartile of Tumor Volume is 64.29983003 mm3.\n",
      "The Interquartile range of Tumor Volume is 15.577752179999997 mm3.\n",
      "Outliers will occur outside the range [25.355449580000002, 87.66645829999999]\n",
      "---------------------------------------------------\n"
     ]
    }
   ],
   "source": [
    "# Calculate the IQR and quantitatively determine if there are any potential outliers. \n",
    "\n",
    "for treatment in Treatments:\n",
    "    \n",
    "    temporary=Final_Vols_Each_Treatment_df.loc[:, treatment]\n",
    "    Quartiles = temporary.quantile([.25,.50,.75])\n",
    "    Ql = Quartiles[.25]\n",
    "    Qu = Quartiles[.75]\n",
    "    IQR = Qu - Ql\n",
    "    Outliers_Lower_Bound = Ql - (1.5*IQR)\n",
    "    Outliers_Upper_Bound = Qu + (1.5*IQR)\n",
    "     \n",
    "    print(f\"Drug Regimen - {treatment}:\")\n",
    "    print(f\"---------------------------------------------------\")\n",
    "    print(f\"The lower quartile of Tumor Volume is {Ql} mm3.\")\n",
    "    print(f\"The upper quartile of Tumor Volume is {Qu} mm3.\")\n",
    "    print(f\"The Interquartile range of Tumor Volume is {IQR} mm3.\")\n",
    "    print(f\"Outliers will occur outside the range [{Outliers_Lower_Bound}, {Outliers_Upper_Bound}]\")\n",
    "    print(f\"---------------------------------------------------\")\n",
    "   "
   ]
  },
  {
   "cell_type": "code",
   "execution_count": 32,
   "metadata": {},
   "outputs": [
    {
     "data": {
      "text/html": [
       "<div>\n",
       "<style scoped>\n",
       "    .dataframe tbody tr th:only-of-type {\n",
       "        vertical-align: middle;\n",
       "    }\n",
       "\n",
       "    .dataframe tbody tr th {\n",
       "        vertical-align: top;\n",
       "    }\n",
       "\n",
       "    .dataframe thead th {\n",
       "        text-align: right;\n",
       "    }\n",
       "</style>\n",
       "<table border=\"1\" class=\"dataframe\">\n",
       "  <thead>\n",
       "    <tr style=\"text-align: right;\">\n",
       "      <th></th>\n",
       "      <th>Complete List of Capomulin Outliers</th>\n",
       "    </tr>\n",
       "  </thead>\n",
       "  <tbody>\n",
       "  </tbody>\n",
       "</table>\n",
       "</div>"
      ],
      "text/plain": [
       "Empty DataFrame\n",
       "Columns: [Complete List of Capomulin Outliers]\n",
       "Index: []"
      ]
     },
     "execution_count": 32,
     "metadata": {},
     "output_type": "execute_result"
    }
   ],
   "source": [
    "# Determine outliers for Capomulin using upper and lower bounds.\n",
    "\n",
    "Capomulin_Final_Volume=Final_Vols_Each_Treatment_df[\"Capomulin\"]\n",
    "Capomulin_Final_Volume_df=pd.DataFrame({\"Capomulin_Final_Volume\": Capomulin_Final_Volume})\n",
    "OL_Cap_df=Capomulin_Final_Volume_df.loc[(Capomulin_Final_Volume_df[\"Capomulin_Final_Volume\"]>51.83201549) | (Capomulin_Final_Volume_df[\"Capomulin_Final_Volume\"]<20.70456164999999), :]\n",
    "OL_Cap_renamed=OL_Cap_df.rename(columns={\"Capomulin_Final_Volume\": \"Complete List of Capomulin Outliers\"})\n",
    "OL_Cap_renamed"
   ]
  },
  {
   "cell_type": "code",
   "execution_count": 33,
   "metadata": {},
   "outputs": [
    {
     "data": {
      "text/html": [
       "<div>\n",
       "<style scoped>\n",
       "    .dataframe tbody tr th:only-of-type {\n",
       "        vertical-align: middle;\n",
       "    }\n",
       "\n",
       "    .dataframe tbody tr th {\n",
       "        vertical-align: top;\n",
       "    }\n",
       "\n",
       "    .dataframe thead th {\n",
       "        text-align: right;\n",
       "    }\n",
       "</style>\n",
       "<table border=\"1\" class=\"dataframe\">\n",
       "  <thead>\n",
       "    <tr style=\"text-align: right;\">\n",
       "      <th></th>\n",
       "      <th>Complete List of Ramicane Outliers</th>\n",
       "    </tr>\n",
       "  </thead>\n",
       "  <tbody>\n",
       "  </tbody>\n",
       "</table>\n",
       "</div>"
      ],
      "text/plain": [
       "Empty DataFrame\n",
       "Columns: [Complete List of Ramicane Outliers]\n",
       "Index: []"
      ]
     },
     "execution_count": 33,
     "metadata": {},
     "output_type": "execute_result"
    }
   ],
   "source": [
    "# Determine outliers for Capomulin using upper and lower bounds.\n",
    "\n",
    "Ramicane_Final_Volume=Final_Vols_Each_Treatment_df[\"Ramicane\"]\n",
    "Ramicane_Final_Volume_df=pd.DataFrame({\"Ramicane_Final_Volume\": Ramicane_Final_Volume})\n",
    "OL_Ram_df=Ramicane_Final_Volume_df.loc[(Ramicane_Final_Volume_df[\"Ramicane_Final_Volume\"]>54.30681135) | (Ramicane_Final_Volume_df[\"Ramicane_Final_Volume\"]<17.912664470000003), :]\n",
    "OL_Ram_renamed=OL_Ram_df.rename(columns={\"Ramicane_Final_Volume\": \"Complete List of Ramicane Outliers\"})\n",
    "OL_Ram_renamed"
   ]
  },
  {
   "cell_type": "code",
   "execution_count": 34,
   "metadata": {},
   "outputs": [
    {
     "data": {
      "text/html": [
       "<div>\n",
       "<style scoped>\n",
       "    .dataframe tbody tr th:only-of-type {\n",
       "        vertical-align: middle;\n",
       "    }\n",
       "\n",
       "    .dataframe tbody tr th {\n",
       "        vertical-align: top;\n",
       "    }\n",
       "\n",
       "    .dataframe thead th {\n",
       "        text-align: right;\n",
       "    }\n",
       "</style>\n",
       "<table border=\"1\" class=\"dataframe\">\n",
       "  <thead>\n",
       "    <tr style=\"text-align: right;\">\n",
       "      <th></th>\n",
       "      <th>Complete List of Infubinol Outliers</th>\n",
       "    </tr>\n",
       "  </thead>\n",
       "  <tbody>\n",
       "    <tr>\n",
       "      <th>5</th>\n",
       "      <td>36.321346</td>\n",
       "    </tr>\n",
       "  </tbody>\n",
       "</table>\n",
       "</div>"
      ],
      "text/plain": [
       "   Complete List of Infubinol Outliers\n",
       "5                            36.321346"
      ]
     },
     "execution_count": 34,
     "metadata": {},
     "output_type": "execute_result"
    }
   ],
   "source": [
    "# Determine outliers for Capomulin using upper and lower bounds.\n",
    "\n",
    "Infubinol_Final_Volume=Final_Vols_Each_Treatment_df[\"Infubinol\"]\n",
    "Infubinol_Final_Volume_df=pd.DataFrame({\"Infubinol_Final_Volume\": Infubinol_Final_Volume})\n",
    "OL_Inf_df=Infubinol_Final_Volume_df.loc[(Infubinol_Final_Volume_df[\"Infubinol_Final_Volume\"]>82.74144559000001) | (Infubinol_Final_Volume_df[\"Infubinol_Final_Volume\"]<36.83290494999999), :]\n",
    "OL_Inf_df_renamed=OL_Inf_df.rename(columns={\"Infubinol_Final_Volume\": \"Complete List of Infubinol Outliers\"})\n",
    "OL_Inf_df_renamed"
   ]
  },
  {
   "cell_type": "code",
   "execution_count": 35,
   "metadata": {},
   "outputs": [
    {
     "data": {
      "text/html": [
       "<div>\n",
       "<style scoped>\n",
       "    .dataframe tbody tr th:only-of-type {\n",
       "        vertical-align: middle;\n",
       "    }\n",
       "\n",
       "    .dataframe tbody tr th {\n",
       "        vertical-align: top;\n",
       "    }\n",
       "\n",
       "    .dataframe thead th {\n",
       "        text-align: right;\n",
       "    }\n",
       "</style>\n",
       "<table border=\"1\" class=\"dataframe\">\n",
       "  <thead>\n",
       "    <tr style=\"text-align: right;\">\n",
       "      <th></th>\n",
       "      <th>Complete List of Ceftamin Outliers</th>\n",
       "    </tr>\n",
       "  </thead>\n",
       "  <tbody>\n",
       "  </tbody>\n",
       "</table>\n",
       "</div>"
      ],
      "text/plain": [
       "Empty DataFrame\n",
       "Columns: [Complete List of Ceftamin Outliers]\n",
       "Index: []"
      ]
     },
     "execution_count": 35,
     "metadata": {},
     "output_type": "execute_result"
    }
   ],
   "source": [
    "# Determine outliers for Capomulin using upper and lower bounds.\n",
    "\n",
    "Ceftamin_Final_Volume=Final_Vols_Each_Treatment_df[\"Ceftamin\"]\n",
    "Ceftamin_Final_Volume_df=pd.DataFrame({\"Ceftamin_Final_Volume\": Ceftamin_Final_Volume})\n",
    "OL_Cef_df=Ceftamin_Final_Volume_df.loc[(Ceftamin_Final_Volume_df[\"Ceftamin_Final_Volume\"]>87.66645829999999) | (Ceftamin_Final_Volume_df[\"Ceftamin_Final_Volume\"]<25.355449580000002), :]\n",
    "OL_Cef_df_renamed=OL_Cef_df.rename(columns={\"Ceftamin_Final_Volume\": \"Complete List of Ceftamin Outliers\"})\n",
    "OL_Cef_df_renamed\n"
   ]
  },
  {
   "cell_type": "code",
   "execution_count": 36,
   "metadata": {},
   "outputs": [
    {
     "data": {
      "image/png": "[encoded data removed]",
      "text/plain": [
       "<Figure size 432x288 with 1 Axes>"
      ]
     },
     "metadata": {
      "needs_background": "light"
     },
     "output_type": "display_data"
    }
   ],
   "source": [
    "# Generate a box plot of the final tumor volume of each mouse across four regimens of interest\n",
    "\n",
    "red_square = dict(markerfacecolor='r', marker='o')\n",
    "plt.boxplot([Capomulin_Final_Volume, Ramicane_Final_Volume, Infubinol_Final_Volume, Ceftamin_Final_Volume], labels = ['Capomulin', 'Ramicane', 'Infubinol', 'Ceftamin'], flierprops=red_square);\n",
    "plt.title(\"Final Tumor Volume for each Regimen\")\n",
    "plt.ylabel('Final Tumor Volume (mm3)')\n",
    "plt.ylim(18, 80)\n",
    "\n",
    "plt.show()\n"
   ]
  },
  {
   "cell_type": "markdown",
   "metadata": {},
   "source": [
    "## Line and Scatter Plots"
   ]
  },
  {
   "cell_type": "code",
   "execution_count": 37,
   "metadata": {},
   "outputs": [
    {
     "data": {
      "text/html": [
       "<div>\n",
       "<style scoped>\n",
       "    .dataframe tbody tr th:only-of-type {\n",
       "        vertical-align: middle;\n",
       "    }\n",
       "\n",
       "    .dataframe tbody tr th {\n",
       "        vertical-align: top;\n",
       "    }\n",
       "\n",
       "    .dataframe thead th {\n",
       "        text-align: right;\n",
       "    }\n",
       "</style>\n",
       "<table border=\"1\" class=\"dataframe\">\n",
       "  <thead>\n",
       "    <tr style=\"text-align: right;\">\n",
       "      <th></th>\n",
       "      <th>Mouse_ID</th>\n",
       "      <th>Drug_Regimen</th>\n",
       "      <th>Sex</th>\n",
       "      <th>Age_Months</th>\n",
       "      <th>Weight_Grams</th>\n",
       "      <th>Timepoint</th>\n",
       "      <th>Tumor_Vol_mm3</th>\n",
       "      <th>Metastatic_Sites</th>\n",
       "    </tr>\n",
       "  </thead>\n",
       "  <tbody>\n",
       "    <tr>\n",
       "      <th>10</th>\n",
       "      <td>s185</td>\n",
       "      <td>Capomulin</td>\n",
       "      <td>Female</td>\n",
       "      <td>3</td>\n",
       "      <td>17</td>\n",
       "      <td>0</td>\n",
       "      <td>45.000000</td>\n",
       "      <td>0</td>\n",
       "    </tr>\n",
       "    <tr>\n",
       "      <th>11</th>\n",
       "      <td>s185</td>\n",
       "      <td>Capomulin</td>\n",
       "      <td>Female</td>\n",
       "      <td>3</td>\n",
       "      <td>17</td>\n",
       "      <td>5</td>\n",
       "      <td>43.878496</td>\n",
       "      <td>0</td>\n",
       "    </tr>\n",
       "    <tr>\n",
       "      <th>12</th>\n",
       "      <td>s185</td>\n",
       "      <td>Capomulin</td>\n",
       "      <td>Female</td>\n",
       "      <td>3</td>\n",
       "      <td>17</td>\n",
       "      <td>10</td>\n",
       "      <td>37.614948</td>\n",
       "      <td>0</td>\n",
       "    </tr>\n",
       "    <tr>\n",
       "      <th>13</th>\n",
       "      <td>s185</td>\n",
       "      <td>Capomulin</td>\n",
       "      <td>Female</td>\n",
       "      <td>3</td>\n",
       "      <td>17</td>\n",
       "      <td>15</td>\n",
       "      <td>38.177232</td>\n",
       "      <td>0</td>\n",
       "    </tr>\n",
       "    <tr>\n",
       "      <th>14</th>\n",
       "      <td>s185</td>\n",
       "      <td>Capomulin</td>\n",
       "      <td>Female</td>\n",
       "      <td>3</td>\n",
       "      <td>17</td>\n",
       "      <td>20</td>\n",
       "      <td>36.866876</td>\n",
       "      <td>0</td>\n",
       "    </tr>\n",
       "  </tbody>\n",
       "</table>\n",
       "</div>"
      ],
      "text/plain": [
       "   Mouse_ID Drug_Regimen     Sex  Age_Months  Weight_Grams  Timepoint  \\\n",
       "10     s185    Capomulin  Female           3            17          0   \n",
       "11     s185    Capomulin  Female           3            17          5   \n",
       "12     s185    Capomulin  Female           3            17         10   \n",
       "13     s185    Capomulin  Female           3            17         15   \n",
       "14     s185    Capomulin  Female           3            17         20   \n",
       "\n",
       "    Tumor_Vol_mm3  Metastatic_Sites  \n",
       "10      45.000000                 0  \n",
       "11      43.878496                 0  \n",
       "12      37.614948                 0  \n",
       "13      38.177232                 0  \n",
       "14      36.866876                 0  "
      ]
     },
     "execution_count": 37,
     "metadata": {},
     "output_type": "execute_result"
    }
   ],
   "source": [
    "# Generate a line plot of tumor volume vs. time point for a mouse treated with Capomulin\n",
    "\n",
    "# Create a data frame that contains Capomulin data only.\n",
    "\n",
    "Capomulin_Only_df=Cleaned_df.loc[Cleaned_df[\"Drug_Regimen\"]==\"Capomulin\", :]\n",
    "Capomulin_Only_df.head()\n"
   ]
  },
  {
   "cell_type": "code",
   "execution_count": 38,
   "metadata": {},
   "outputs": [
    {
     "data": {
      "text/html": [
       "<div>\n",
       "<style scoped>\n",
       "    .dataframe tbody tr th:only-of-type {\n",
       "        vertical-align: middle;\n",
       "    }\n",
       "\n",
       "    .dataframe tbody tr th {\n",
       "        vertical-align: top;\n",
       "    }\n",
       "\n",
       "    .dataframe thead th {\n",
       "        text-align: right;\n",
       "    }\n",
       "</style>\n",
       "<table border=\"1\" class=\"dataframe\">\n",
       "  <thead>\n",
       "    <tr style=\"text-align: right;\">\n",
       "      <th></th>\n",
       "      <th>Timepoint</th>\n",
       "      <th>Tumor_Vol_mm3</th>\n",
       "    </tr>\n",
       "  </thead>\n",
       "  <tbody>\n",
       "    <tr>\n",
       "      <th>10</th>\n",
       "      <td>0</td>\n",
       "      <td>45.000000</td>\n",
       "    </tr>\n",
       "    <tr>\n",
       "      <th>11</th>\n",
       "      <td>5</td>\n",
       "      <td>43.878496</td>\n",
       "    </tr>\n",
       "    <tr>\n",
       "      <th>12</th>\n",
       "      <td>10</td>\n",
       "      <td>37.614948</td>\n",
       "    </tr>\n",
       "    <tr>\n",
       "      <th>13</th>\n",
       "      <td>15</td>\n",
       "      <td>38.177232</td>\n",
       "    </tr>\n",
       "    <tr>\n",
       "      <th>14</th>\n",
       "      <td>20</td>\n",
       "      <td>36.866876</td>\n",
       "    </tr>\n",
       "    <tr>\n",
       "      <th>15</th>\n",
       "      <td>25</td>\n",
       "      <td>33.949940</td>\n",
       "    </tr>\n",
       "    <tr>\n",
       "      <th>16</th>\n",
       "      <td>30</td>\n",
       "      <td>32.959671</td>\n",
       "    </tr>\n",
       "    <tr>\n",
       "      <th>17</th>\n",
       "      <td>35</td>\n",
       "      <td>28.328531</td>\n",
       "    </tr>\n",
       "    <tr>\n",
       "      <th>18</th>\n",
       "      <td>40</td>\n",
       "      <td>25.472143</td>\n",
       "    </tr>\n",
       "    <tr>\n",
       "      <th>19</th>\n",
       "      <td>45</td>\n",
       "      <td>23.343598</td>\n",
       "    </tr>\n",
       "  </tbody>\n",
       "</table>\n",
       "</div>"
      ],
      "text/plain": [
       "    Timepoint  Tumor_Vol_mm3\n",
       "10          0      45.000000\n",
       "11          5      43.878496\n",
       "12         10      37.614948\n",
       "13         15      38.177232\n",
       "14         20      36.866876\n",
       "15         25      33.949940\n",
       "16         30      32.959671\n",
       "17         35      28.328531\n",
       "18         40      25.472143\n",
       "19         45      23.343598"
      ]
     },
     "execution_count": 38,
     "metadata": {},
     "output_type": "execute_result"
    }
   ],
   "source": [
    "#Select a mouse ID: s185\n",
    "\n",
    "# Trim the data frame further so that it only contains the relevent data for that particular mouse.\n",
    "\n",
    "s185_Only_df=Capomulin_Only_df.loc[Capomulin_Only_df[\"Mouse_ID\"]==\"s185\", [\"Timepoint\",\"Tumor_Vol_mm3\"]]\n",
    "s185_Only_df\n"
   ]
  },
  {
   "cell_type": "code",
   "execution_count": 39,
   "metadata": {},
   "outputs": [
    {
     "data": {
      "image/png": "[encoded data removed]",
      "text/plain": [
       "<Figure size 432x288 with 1 Axes>"
      ]
     },
     "metadata": {
      "needs_background": "light"
     },
     "output_type": "display_data"
    }
   ],
   "source": [
    "# Store the timepoint values as a variable.\n",
    "\n",
    "timepoint=s185_Only_df[\"Timepoint\"]\n",
    "timepoint\n",
    "\n",
    "# Store the volume values as a variable.\n",
    "\n",
    "volume=s185_Only_df[\"Tumor_Vol_mm3\"]\n",
    "volume\n",
    "\n",
    "# Create the line graph.\n",
    "\n",
    "plt.plot(timepoint, volume, marker=\"o\")\n",
    "plt.title(\"Tumor volume vs Timepoint - Mouse ID: s185\")\n",
    "plt.xlabel('Timepoint')\n",
    "plt.ylabel('Tumor Volume (mm3)')\n",
    "plt.xlim(0, 50)\n",
    "plt.ylim(0, 50)\n",
    "\n",
    "plt.show()\n"
   ]
  },
  {
   "cell_type": "code",
   "execution_count": 40,
   "metadata": {},
   "outputs": [
    {
     "data": {
      "image/png": "[encoded data removed]",
      "text/plain": [
       "<Figure size 432x288 with 1 Axes>"
      ]
     },
     "metadata": {
      "needs_background": "light"
     },
     "output_type": "display_data"
    }
   ],
   "source": [
    "# Generate a scatter plot of average tumor volume vs. mouse weight for the Capomulin regimen\n",
    "\n",
    "Capomulin_By_Weight=Capomulin_Only_df.groupby(['Weight_Grams'])['Tumor_Vol_mm3'].mean()\n",
    "Capomulin_By_Weight_df=pd.DataFrame({\"Capomulin_By_Weight\":Capomulin_By_Weight})\n",
    "Capomulin_By_Weight_df=Capomulin_By_Weight_df.rename(columns={\"Capomulin_By_Weight\": \"Average Tumour Volume\"})\n",
    "Capomulin_By_Weight_df.reset_index(inplace=True)\n",
    "\n",
    "# Store the average volume per weight class as a variable.\n",
    "\n",
    "Ave_Vol_Per_Weight=Capomulin_By_Weight_df[\"Average Tumour Volume\"].tolist()\n",
    "\n",
    "\n",
    "# Store the weight classes as a variable.\n",
    "\n",
    "Weight_List=Capomulin_By_Weight_df[\"Weight_Grams\"].tolist()\n",
    "\n",
    "\n",
    "# Create the Scatter Plot.\n",
    "\n",
    "plt.scatter(Weight_List, Ave_Vol_Per_Weight, marker=\"s\", facecolors=\"yellow\", edgecolors=\"blue\")\n",
    "plt.title(\"Average Tumor Volume for each Weight Class of Mouse\")\n",
    "plt.xlabel('Weight Class')\n",
    "plt.ylabel('Average Tumor Volume (mm3)')\n",
    "plt.xlim(12, 28)\n",
    "plt.ylim(25, 50)\n",
    "\n",
    "plt.show()"
   ]
  },
  {
   "cell_type": "markdown",
   "metadata": {},
   "source": [
    "## Correlation and Regression"
   ]
  },
  {
   "cell_type": "code",
   "execution_count": 41,
   "metadata": {},
   "outputs": [],
   "source": [
    "# Calculate the correlation coefficient and linear regression model for mouse weight and average tumor volume for the Capomulin regimen\n",
    "\n",
    "# Import potentially useful Dependencies.\n",
    "\n",
    "from scipy.stats import linregress\n",
    "from sklearn import datasets\n"
   ]
  },
  {
   "cell_type": "code",
   "execution_count": 42,
   "metadata": {},
   "outputs": [
    {
     "data": {
      "image/png": "[encoded data removed]",
      "text/plain": [
       "<Figure size 432x288 with 1 Axes>"
      ]
     },
     "metadata": {
      "needs_background": "light"
     },
     "output_type": "display_data"
    },
    {
     "name": "stdout",
     "output_type": "stream",
     "text": [
      "For Linear Regression Line:\n",
      "(y is the Average Tumor Volume and x is the Weight Class of Mouse.)\n"
     ]
    }
   ],
   "source": [
    "# Establish a linear regression model.\n",
    "\n",
    "x_values = Capomulin_By_Weight_df[\"Weight_Grams\"]\n",
    "y_values = Capomulin_By_Weight_df[\"Average Tumour Volume\"]\n",
    "(slope, intercept, rvalue, pvalue, stderr) = linregress(x_values, y_values)\n",
    "regress_values = x_values * slope + intercept\n",
    "line_eq = \"y = \" + str(round(slope,2)) + \"x + \" + str(round(intercept,2))\n",
    "plt.scatter(x_values,y_values)\n",
    "plt.plot(x_values, regress_values,\"r-\")\n",
    "plt.annotate(line_eq,(21,37),fontsize=11,color=\"red\")\n",
    "plt.title(\"Average Tumor Volume for each Weight Class of Mouse\")\n",
    "plt.xlabel('Weight Class (grams)')\n",
    "plt.ylabel('Average Tumor Volume (mm3)')\n",
    "plt.show()\n",
    "print(\"For Linear Regression Line:\")\n",
    "print(\"(y is the Average Tumor Volume and x is the Weight Class of Mouse.)\")"
   ]
  },
  {
   "cell_type": "code",
   "execution_count": 43,
   "metadata": {},
   "outputs": [
    {
     "name": "stdout",
     "output_type": "stream",
     "text": [
      "The r-squared is: 0.9034966277438602\n"
     ]
    },
    {
     "data": {
      "image/png": "[encoded data removed]",
      "text/plain": [
       "<Figure size 432x288 with 1 Axes>"
      ]
     },
     "metadata": {
      "needs_background": "light"
     },
     "output_type": "display_data"
    },
    {
     "name": "stdout",
     "output_type": "stream",
     "text": [
      "For Linear Regression Line:\n",
      "(y is the Average Tumor Volume and x is the Weight Class of Mouse.)\n"
     ]
    }
   ],
   "source": [
    "# Establish the correlation coefficient.\n",
    "\n",
    "x_values = Capomulin_By_Weight_df[\"Weight_Grams\"]\n",
    "y_values = Capomulin_By_Weight_df[\"Average Tumour Volume\"]\n",
    "(slope, intercept, rvalue, pvalue, stderr) = linregress(x_values, y_values)\n",
    "regress_values = x_values * slope + intercept\n",
    "line_eq = \"y = \" + str(round(slope,2)) + \"x + \" + str(round(intercept,2))\n",
    "plt.scatter(x_values,y_values)\n",
    "plt.plot(x_values,regress_values,\"r-\")\n",
    "plt.annotate(line_eq,(21,37),fontsize=11,color=\"red\")\n",
    "plt.title(\"Average Tumor Volume for each Weight Class of Mouse\")\n",
    "plt.xlabel('Weight Class (grams)')\n",
    "plt.ylabel('Average Tumor Volume (mm3)')\n",
    "print(f\"The r-squared is: {rvalue**2}\")\n",
    "plt.show()\n",
    "print(\"For Linear Regression Line:\")\n",
    "print(\"(y is the Average Tumor Volume and x is the Weight Class of Mouse.)\")"
   ]
  },
  {
   "cell_type": "code",
   "execution_count": 44,
   "metadata": {},
   "outputs": [
    {
     "data": {
      "image/png": "[encoded data removed]",
      "text/plain": [
       "<Figure size 432x288 with 1 Axes>"
      ]
     },
     "metadata": {
      "needs_background": "light"
     },
     "output_type": "display_data"
    }
   ],
   "source": [
    "# Generate a scatter plot of tumor volume vs. mouse weight for the Capomulin regimen\n",
    "\n",
    "Cupomulin_Grouped_Mouse=Capomulin_Only_df.groupby([\"Mouse_ID\"]).mean()\n",
    "\n",
    "#print(Cupomulin_Grouped_Mouse)\n",
    "\n",
    "x_values = Cupomulin_Grouped_Mouse['Weight_Grams']\n",
    "y_values = Cupomulin_Grouped_Mouse[\"Tumor_Vol_mm3\"]\n",
    "\n",
    "#Create a Scatter Plot.\n",
    "\n",
    "plt.scatter(x_values, y_values, marker=\"s\", facecolors=\"yellow\", edgecolors=\"blue\")\n",
    "plt.title(\"Average Tumor Volume versus Weight for each Mouse\")\n",
    "plt.xlabel('Weight (grams)')\n",
    "plt.ylabel('Average Tumor Volume (mm3)')\n",
    "plt.xlim(12, 28)\n",
    "plt.ylim(32, 47)\n",
    "\n",
    "plt.show()"
   ]
  },
  {
   "cell_type": "code",
   "execution_count": 45,
   "metadata": {},
   "outputs": [
    {
     "data": {
      "image/png": "[encoded data removed]",
      "text/plain": [
       "<Figure size 432x288 with 1 Axes>"
      ]
     },
     "metadata": {
      "needs_background": "light"
     },
     "output_type": "display_data"
    },
    {
     "name": "stdout",
     "output_type": "stream",
     "text": [
      "For Linear Regression Line:\n",
      "(y is the Average Tumor Volume and x is the Weight Class of Mouse.)\n"
     ]
    }
   ],
   "source": [
    "# Establish a linear regression model.\n",
    "\n",
    "x_values = Cupomulin_Grouped_Mouse['Weight_Grams']\n",
    "y_values = Cupomulin_Grouped_Mouse[\"Tumor_Vol_mm3\"]\n",
    "\n",
    "(slope, intercept, rvalue, pvalue, stderr) = linregress(x_values, y_values)\n",
    "regress_values = x_values * slope + intercept\n",
    "line_eq = \"y = \" + str(round(slope,2)) + \"x + \" + str(round(intercept,2))\n",
    "plt.scatter(x_values, y_values, marker=\"s\", facecolors=\"yellow\", edgecolors=\"blue\")\n",
    "plt.plot(x_values, regress_values,\"g-\")\n",
    "plt.annotate(line_eq,(21,37),fontsize=11,color=\"red\")\n",
    "\n",
    "plt.title(\"Average Tumor Volume versus Weight for each Mouse\")\n",
    "plt.xlabel('Weight (grams)')\n",
    "plt.ylabel('Average Tumor Volume (mm3)')\n",
    "plt.xlim(12, 28)\n",
    "plt.ylim(32, 47)\n",
    "\n",
    "plt.show()\n",
    "print(\"For Linear Regression Line:\")\n",
    "print(\"(y is the Average Tumor Volume and x is the Weight Class of Mouse.)\")"
   ]
  },
  {
   "cell_type": "code",
   "execution_count": 46,
   "metadata": {},
   "outputs": [
    {
     "name": "stdout",
     "output_type": "stream",
     "text": [
      "The r-squared is: 0.7088568047708723\n"
     ]
    },
    {
     "data": {
      "image/png": "[encoded data removed]",
      "text/plain": [
       "<Figure size 432x288 with 1 Axes>"
      ]
     },
     "metadata": {
      "needs_background": "light"
     },
     "output_type": "display_data"
    },
    {
     "name": "stdout",
     "output_type": "stream",
     "text": [
      "For Linear Regression Line:\n",
      "(y is the Average Tumor Volume and x is the Weight Class of Mouse.)\n"
     ]
    }
   ],
   "source": [
    "# Establish the correlation coefficient.\n",
    "\n",
    "x_values = Cupomulin_Grouped_Mouse['Weight_Grams']\n",
    "y_values = Cupomulin_Grouped_Mouse[\"Tumor_Vol_mm3\"]\n",
    "(slope, intercept, rvalue, pvalue, stderr) = linregress(x_values, y_values)\n",
    "regress_values = x_values * slope + intercept\n",
    "line_eq = \"y = \" + str(round(slope,2)) + \"x + \" + str(round(intercept,2))\n",
    "plt.scatter(x_values,y_values)\n",
    "plt.plot(x_values,regress_values,\"r-\")\n",
    "plt.annotate(line_eq,(21,37),fontsize=11,color=\"red\")\n",
    "plt.title(\"Average Tumor Volume for each Weight Class of Mouse\")\n",
    "plt.xlabel('Weight Class (grams)')\n",
    "plt.ylabel('Average Tumor Volume (mm3)')\n",
    "print(f\"The r-squared is: {rvalue**2}\")\n",
    "plt.show()\n",
    "print(\"For Linear Regression Line:\")\n",
    "print(\"(y is the Average Tumor Volume and x is the Weight Class of Mouse.)\")"
   ]
  },
  {
   "cell_type": "code",
   "execution_count": null,
   "metadata": {},
   "outputs": [],
   "source": []
  },
  {
   "cell_type": "code",
   "execution_count": null,
   "metadata": {},
   "outputs": [],
   "source": []
  },
  {
   "cell_type": "code",
   "execution_count": null,
   "metadata": {},
   "outputs": [],
   "source": []
  }
 ],
 "metadata": {
  "anaconda-cloud": {},
  "kernelspec": {
   "display_name": "Python 3 (ipykernel)",
   "language": "python",
   "name": "python3"
  },
  "language_info": {
   "codemirror_mode": {
    "name": "ipython",
    "version": 3
   },
   "file_extension": ".py",
   "mimetype": "text/x-python",
   "name": "python",
   "nbconvert_exporter": "python",
   "pygments_lexer": "ipython3",
   "version": "3.9.7"
  }
 },
 "nbformat": 4,
 "nbformat_minor": 4
}
